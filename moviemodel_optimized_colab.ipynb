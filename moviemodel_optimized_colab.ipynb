{
  "cells": [
    {
      "cell_type": "code",
      "execution_count": 1,
      "metadata": {
        "colab": {
          "base_uri": "https://localhost:8080/"
        },
        "id": "NStCeKMw_CXV",
        "outputId": "62626c92-8a73-4cf8-c510-b04ec7d711cb"
      },
      "outputs": [
        {
          "output_type": "stream",
          "name": "stdout",
          "text": [
            "\r0% [Working]\r            \rHit:1 http://archive.ubuntu.com/ubuntu jammy InRelease\n",
            "\r0% [Connecting to security.ubuntu.com] [Connected to cloud.r-project.org (3.166.118.85)] [Connected \r                                                                                                    \rGet:2 http://archive.ubuntu.com/ubuntu jammy-updates InRelease [128 kB]\n",
            "Hit:3 https://developer.download.nvidia.com/compute/cuda/repos/ubuntu2204/x86_64  InRelease\n",
            "Get:4 http://security.ubuntu.com/ubuntu jammy-security InRelease [129 kB]\n",
            "Hit:5 https://cloud.r-project.org/bin/linux/ubuntu jammy-cran40/ InRelease\n",
            "Hit:6 https://r2u.stat.illinois.edu/ubuntu jammy InRelease\n",
            "Hit:7 http://archive.ubuntu.com/ubuntu jammy-backports InRelease\n",
            "Hit:8 https://ppa.launchpadcontent.net/deadsnakes/ppa/ubuntu jammy InRelease\n",
            "Hit:9 https://ppa.launchpadcontent.net/graphics-drivers/ppa/ubuntu jammy InRelease\n",
            "Hit:10 https://ppa.launchpadcontent.net/ubuntugis/ppa/ubuntu jammy InRelease\n",
            "Fetched 257 kB in 2s (139 kB/s)\n",
            "Reading package lists... Done\n",
            "W: Skipping acquire of configured file 'main/source/Sources' as repository 'https://r2u.stat.illinois.edu/ubuntu jammy InRelease' does not seem to provide it (sources.list entry misspelt?)\n"
          ]
        }
      ],
      "source": [
        "import os\n",
        "# Find the latest version of spark 3.x  from https://downloads.apache.org/spark/ and enter as the spark version\n",
        "# For example:\n",
        "# spark_version = 'spark-3.5.5'\n",
        "spark_version = 'spark-3.5.5'\n",
        "os.environ['SPARK_VERSION']=spark_version\n",
        "\n",
        "# Install Spark and Java\n",
        "!apt-get update\n",
        "!apt-get install openjdk-11-jdk-headless -qq > /dev/null\n",
        "!wget -q https://downloads.apache.org/spark/$SPARK_VERSION/$SPARK_VERSION-bin-hadoop3.tgz\n",
        "!tar xf $SPARK_VERSION-bin-hadoop3.tgz\n",
        "!pip install -q findspark\n",
        "\n",
        "# Set Environment Variables\n",
        "os.environ[\"JAVA_HOME\"] = \"/usr/lib/jvm/java-11-openjdk-amd64\"\n",
        "os.environ[\"SPARK_HOME\"] = f\"/content/{spark_version}-bin-hadoop3\"\n",
        "\n",
        "# Start a SparkSession\n",
        "import findspark\n",
        "findspark.init()"
      ]
    },
    {
      "cell_type": "code",
      "source": [
        "from pyspark.sql import SparkSession\n",
        "from pyspark.ml.recommendation import ALS\n",
        "from pyspark.ml.feature import StringIndexer, OneHotEncoder\n",
        "from pyspark.ml import Pipeline\n",
        "from pyspark.ml.evaluation import RegressionEvaluator\n",
        "from pyspark.sql import functions as F\n",
        "\n",
        "# Initialize Spark session\n",
        "spark = SparkSession.builder.appName(\"MovieRecommendation\").getOrCreate()\n",
        "\n",
        "# Load ratings and movies data\n",
        "ratings_df = spark.read.csv(\"ratings.csv\", header=True, inferSchema=True)\n",
        "movies_df = spark.read.csv(\"movies.csv\", header=True, inferSchema=True)  # movies.csv should contain movieId, genre\n",
        "ratings_df.show()\n",
        "movies_df.show()"
      ],
      "metadata": {
        "colab": {
          "base_uri": "https://localhost:8080/"
        },
        "id": "8YvIOofpkvOP",
        "outputId": "a9d01efa-8876-43e7-d53c-2e05b9b303ff"
      },
      "execution_count": 2,
      "outputs": [
        {
          "output_type": "stream",
          "name": "stdout",
          "text": [
            "+------+-------+------+---------+\n",
            "|userId|movieId|rating|timestamp|\n",
            "+------+-------+------+---------+\n",
            "|     1|      1|   4.0|964982703|\n",
            "|     1|      3|   4.0|964981247|\n",
            "|     1|      6|   4.0|964982224|\n",
            "|     1|     47|   5.0|964983815|\n",
            "|     1|     50|   5.0|964982931|\n",
            "|     1|     70|   3.0|964982400|\n",
            "|     1|    101|   5.0|964980868|\n",
            "|     1|    110|   4.0|964982176|\n",
            "|     1|    151|   5.0|964984041|\n",
            "|     1|    157|   5.0|964984100|\n",
            "|     1|    163|   5.0|964983650|\n",
            "|     1|    216|   5.0|964981208|\n",
            "|     1|    223|   3.0|964980985|\n",
            "|     1|    231|   5.0|964981179|\n",
            "|     1|    235|   4.0|964980908|\n",
            "|     1|    260|   5.0|964981680|\n",
            "|     1|    296|   3.0|964982967|\n",
            "|     1|    316|   3.0|964982310|\n",
            "|     1|    333|   5.0|964981179|\n",
            "|     1|    349|   4.0|964982563|\n",
            "+------+-------+------+---------+\n",
            "only showing top 20 rows\n",
            "\n",
            "+-------+--------------------+--------------------+\n",
            "|movieId|               title|              genres|\n",
            "+-------+--------------------+--------------------+\n",
            "|      1|    Toy Story (1995)|Adventure|Animati...|\n",
            "|      2|      Jumanji (1995)|Adventure|Childre...|\n",
            "|      3|Grumpier Old Men ...|      Comedy|Romance|\n",
            "|      4|Waiting to Exhale...|Comedy|Drama|Romance|\n",
            "|      5|Father of the Bri...|              Comedy|\n",
            "|      6|         Heat (1995)|Action|Crime|Thri...|\n",
            "|      7|      Sabrina (1995)|      Comedy|Romance|\n",
            "|      8| Tom and Huck (1995)|  Adventure|Children|\n",
            "|      9| Sudden Death (1995)|              Action|\n",
            "|     10|    GoldenEye (1995)|Action|Adventure|...|\n",
            "|     11|American Presiden...|Comedy|Drama|Romance|\n",
            "|     12|Dracula: Dead and...|       Comedy|Horror|\n",
            "|     13|        Balto (1995)|Adventure|Animati...|\n",
            "|     14|        Nixon (1995)|               Drama|\n",
            "|     15|Cutthroat Island ...|Action|Adventure|...|\n",
            "|     16|       Casino (1995)|         Crime|Drama|\n",
            "|     17|Sense and Sensibi...|       Drama|Romance|\n",
            "|     18|   Four Rooms (1995)|              Comedy|\n",
            "|     19|Ace Ventura: When...|              Comedy|\n",
            "|     20|  Money Train (1995)|Action|Comedy|Cri...|\n",
            "+-------+--------------------+--------------------+\n",
            "only showing top 20 rows\n",
            "\n"
          ]
        }
      ]
    },
    {
      "cell_type": "code",
      "source": [],
      "metadata": {
        "id": "JXZH_yVIleWF"
      },
      "execution_count": 2,
      "outputs": []
    },
    {
      "cell_type": "code",
      "source": [
        "# Step 1: Process the genre column by splitting it (assuming genres are in a single column like \"Adventure|Animation|Children|Comedy|Fantasy\")\n",
        "# Split the genre column using the '|' delimiter\n",
        "movies_df = movies_df.withColumn(\"genre\", F.split(F.col(\"genres\"), \"\\|\"))\n",
        "\n",
        "# Step 2: Explode the genre column to have one genre per row (multiple rows for each movie)\n",
        "movies_df = movies_df.withColumn(\"genre\", F.explode(F.col(\"genre\")))\n",
        "\n",
        "# Step 3: Use StringIndexer to convert genres into numerical indices\n",
        "indexer = StringIndexer(inputCol=\"genre\", outputCol=\"genreIndex\")\n",
        "encoder = OneHotEncoder(inputCol=\"genreIndex\", outputCol=\"genreVec\")\n",
        "\n",
        "# Step 4: Create a pipeline for genre encoding\n",
        "pipeline = Pipeline(stages=[indexer, encoder])\n",
        "movies_with_genre = pipeline.fit(movies_df).transform(movies_df)\n",
        "\n",
        "# Step 5: Join the ratings data with the genre information (ratings_df and movies_with_genre)\n",
        "ratings_with_genre = ratings_df.join(movies_with_genre, on=\"movieId\", how=\"inner\")"
      ],
      "metadata": {
        "id": "03EkUk0Pla2h"
      },
      "execution_count": 3,
      "outputs": []
    },
    {
      "cell_type": "code",
      "source": [
        "# Step 6: Train-test split\n",
        "train_data, test_data = ratings_with_genre.randomSplit([0.8, 0.2], seed=42)\n",
        "\n",
        "# Step 7: Build the ALS model\n",
        "# Define ALS model with hyperparameters\n",
        "als = ALS(\n",
        "    userCol=\"userId\",\n",
        "    itemCol=\"movieId\",\n",
        "    ratingCol=\"rating\",\n",
        "    maxIter=10,  # can be adjusted\n",
        "    rank=20,     # Adjust rank if needed\n",
        "    regParam=0.1,\n",
        "    coldStartStrategy=\"drop\"\n",
        ")\n",
        "\n",
        "\n",
        "# Step 8: Train the ALS model on the training data\n",
        "model = als.fit(train_data)\n"
      ],
      "metadata": {
        "id": "4G9j3UUxlfnx"
      },
      "execution_count": 4,
      "outputs": []
    },
    {
      "cell_type": "code",
      "source": [
        "# Step 9: Get predictions on the test data\n",
        "predictions = model.transform(test_data)\n",
        "# Select the columns: user, movie, actual rating, predicted rating\n",
        "predicted_vs_actual = predictions.select(\"userid\", \"movieid\", \"rating\", \"prediction\")\n",
        "\n",
        "# Show a few rows to compare actual vs predicted ratings\n",
        "predicted_vs_actual.show(10)\n"
      ],
      "metadata": {
        "colab": {
          "base_uri": "https://localhost:8080/"
        },
        "id": "ExoW1VyDoyED",
        "outputId": "dd7cad62-3932-457a-c364-1e650f0fe207"
      },
      "execution_count": 5,
      "outputs": [
        {
          "output_type": "stream",
          "name": "stdout",
          "text": [
            "+------+-------+------+----------+\n",
            "|userid|movieid|rating|prediction|\n",
            "+------+-------+------+----------+\n",
            "|     1|      1|   4.0|  4.465457|\n",
            "|     5|      1|   4.0| 3.9757326|\n",
            "|     5|      1|   4.0| 3.9757326|\n",
            "|     7|      1|   4.5|  4.148654|\n",
            "|    15|      1|   2.5| 2.8565345|\n",
            "|    17|      1|   4.5| 4.0303845|\n",
            "|    18|      1|   3.5| 3.8686466|\n",
            "|    21|      1|   3.5|  3.439942|\n",
            "|    31|      1|   5.0|  4.249846|\n",
            "|    31|      1|   5.0|  4.249846|\n",
            "+------+-------+------+----------+\n",
            "only showing top 10 rows\n",
            "\n"
          ]
        }
      ]
    },
    {
      "cell_type": "code",
      "source": [
        "\n",
        "\n",
        "# Step 10: Evaluate the model using RMSE\n",
        "evaluator = RegressionEvaluator(metricName=\"rmse\", labelCol=\"rating\", predictionCol=\"prediction\")\n",
        "rmse = evaluator.evaluate(predictions)\n",
        "print(f\"Root Mean Squared Error (RMSE) = {rmse}\")"
      ],
      "metadata": {
        "colab": {
          "base_uri": "https://localhost:8080/"
        },
        "id": "51yLIndUmH7L",
        "outputId": "a21ffedd-1101-473c-d3d2-0f1ddd2977fa"
      },
      "execution_count": 6,
      "outputs": [
        {
          "output_type": "stream",
          "name": "stdout",
          "text": [
            "Root Mean Squared Error (RMSE) = 0.6346458391040313\n"
          ]
        }
      ]
    },
    {
      "cell_type": "code",
      "source": [
        "# Step 11: Get top recommendations for users\n",
        "user_recs = model.recommendForAllUsers(10)  # Get top 10 recommendations for each user\n",
        "user_recs.show(5)"
      ],
      "metadata": {
        "colab": {
          "base_uri": "https://localhost:8080/"
        },
        "id": "zIqGL8krmVRy",
        "outputId": "db51171a-37c7-4a98-da42-9b844216ffac"
      },
      "execution_count": 7,
      "outputs": [
        {
          "output_type": "stream",
          "name": "stdout",
          "text": [
            "+------+--------------------+\n",
            "|userId|     recommendations|\n",
            "+------+--------------------+\n",
            "|     1|[{26171, 5.83101}...|\n",
            "|     2|[{131724, 4.89435...|\n",
            "|     3|[{70946, 4.941532...|\n",
            "|     4|[{2300, 5.0318265...|\n",
            "|     5|[{1262, 4.8456035...|\n",
            "+------+--------------------+\n",
            "only showing top 5 rows\n",
            "\n"
          ]
        }
      ]
    },
    {
      "cell_type": "code",
      "source": [
        "from pyspark.sql import functions as F\n",
        "from pyspark.ml.evaluation import RegressionEvaluator\n",
        "from pyspark.sql.functions import col\n",
        "\n",
        "# Define a threshold for relevant ratings (e.g., ratings > 3.0 are considered relevant)\n",
        "threshold = 3.0\n",
        "\n",
        "# Step 1: Filter predictions and actual ratings based on the threshold\n",
        "predictions = predictions.withColumn(\"prediction\", F.when(F.col(\"prediction\") > threshold, 1).otherwise(0))\n",
        "actual_ratings = test_data.withColumn(\"actual\", F.when(F.col(\"rating\") > threshold, 1).otherwise(0))\n",
        "\n",
        "# Step 2: Join predictions and actual ratings to get a single DataFrame for comparison\n",
        "predictions_and_actuals = predictions.join(actual_ratings, [\"userId\", \"movieId\"], \"inner\")\n",
        "\n",
        "# Step 3: Calculate True Positives, False Positives, False Negatives\n",
        "# True Positive (TP): The item is relevant and it was predicted as relevant\n",
        "# False Positive (FP): The item is not relevant but was predicted as relevant\n",
        "# False Negative (FN): The item is relevant but was not predicted as relevant\n",
        "\n",
        "TP = predictions_and_actuals.filter((col(\"prediction\") == 1) & (col(\"actual\") == 1)).count()\n",
        "FP = predictions_and_actuals.filter((col(\"prediction\") == 1) & (col(\"actual\") == 0)).count()\n",
        "FN = predictions_and_actuals.filter((col(\"prediction\") == 0) & (col(\"actual\") == 1)).count()\n",
        "\n",
        "# Step 4: Calculate Precision, Recall, and F1-Score\n",
        "precision = TP / (TP + FP) if (TP + FP) > 0 else 0\n",
        "recall = TP / (TP + FN) if (TP + FN) > 0 else 0\n",
        "f1_score = 2 * (precision * recall) / (precision + recall) if (precision + recall) > 0 else 0\n",
        "\n",
        "# Step 5: Print the results\n",
        "print(f\"Precision: {precision}\")\n",
        "print(f\"Recall: {recall}\")\n",
        "print(f\"F1-Score: {f1_score}\")\n"
      ],
      "metadata": {
        "colab": {
          "base_uri": "https://localhost:8080/"
        },
        "id": "6dW6w8ELmqbJ",
        "outputId": "57c03771-53a2-48ee-a3ef-26394b1c2d57"
      },
      "execution_count": 8,
      "outputs": [
        {
          "output_type": "stream",
          "name": "stdout",
          "text": [
            "Precision: 0.7845894837085913\n",
            "Recall: 0.9444819750660198\n",
            "F1-Score: 0.8571428571428573\n"
          ]
        }
      ]
    },
    {
      "cell_type": "code",
      "source": [
        "from pyspark.sql import functions as F\n",
        "\n",
        "def get_movie_recommendations_for_user(user_id, model, ratings_df, movies_df, top_n=10):\n",
        "    \"\"\"\n",
        "    Get movie recommendations for a specific user and return them with scaled ratings.\n",
        "\n",
        "    :param user_id: The ID of the user for whom recommendations are generated.\n",
        "    :param model: The trained recommendation model.\n",
        "    :param ratings_df: The ratings DataFrame containing user ratings.\n",
        "    :param movies_df: The movies DataFrame containing movie information (movieId and title).\n",
        "    :param top_n: The number of recommendations to return (default is 10).\n",
        "\n",
        "    :return: DataFrame with movie recommendations including movie title and scaled ratings.\n",
        "    \"\"\"\n",
        "    # Generate movie recommendations for the specified user\n",
        "    user_recs = model.recommendForUserSubset(ratings_df.filter(ratings_df.userId == user_id), top_n)\n",
        "\n",
        "    # Exploding the recommendations to get individual movie rows\n",
        "    user_recs_flat = user_recs.select(\"userId\", F.explode(\"recommendations\").alias(\"movie_recommendation\"))\n",
        "\n",
        "    # Join with the movies_df to get movie names\n",
        "    user_recs_with_names = user_recs_flat.join(movies_df, user_recs_flat.movie_recommendation.movieId == movies_df.movieId, how=\"inner\") \\\n",
        "        .select(\"userId\", \"movieId\", \"title\", \"movie_recommendation.rating\")\n",
        "\n",
        "    # Drop duplicates based on userId and movieId\n",
        "    user_recs_with_names = user_recs_with_names.dropDuplicates([\"userId\", \"movieId\"])\n",
        "\n",
        "    # Scale the ratings from 0-6 to 1-5 range\n",
        "    user_recs_with_names = user_recs_with_names.withColumn(\n",
        "        \"scaled_rating\",\n",
        "        1 + (F.col(\"rating\") / 6) * 4  # This scales the ratings to the 1-5 range\n",
        "    )\n",
        "\n",
        "    # Return the recommendations with scaled ratings\n",
        "    return user_recs_with_names.select(\"userId\", \"movieId\", \"title\", \"scaled_rating\")\n",
        "\n",
        "# Example of calling the function for user 1\n",
        "user_1_recs = get_movie_recommendations_for_user(1, model, ratings_df, movies_df, top_n=10)\n",
        "\n",
        "# Show the recommended movies for user 1\n",
        "user_1_recs.show(truncate=False)\n",
        "\n"
      ],
      "metadata": {
        "colab": {
          "base_uri": "https://localhost:8080/"
        },
        "id": "Cg0STA7PpzHk",
        "outputId": "24dca736-79a4-41cc-b094-2df9b4b5b208"
      },
      "execution_count": 18,
      "outputs": [
        {
          "output_type": "stream",
          "name": "stdout",
          "text": [
            "+------+-------+---------------------------------------------------+------------------+\n",
            "|userId|movieId|title                                              |scaled_rating     |\n",
            "+------+-------+---------------------------------------------------+------------------+\n",
            "|1     |123    |Chungking Express (Chung Hing sam lam) (1994)      |4.6438093185424805|\n",
            "|1     |1262   |Great Escape, The (1963)                           |4.6117149988810215|\n",
            "|1     |3494   |True Grit (1969)                                   |4.584958712259928 |\n",
            "|1     |5490   |The Big Bus (1976)                                 |4.644354184468588 |\n",
            "|1     |5915   |Victory (a.k.a. Escape to Victory) (1981)          |4.631017684936523 |\n",
            "|1     |6375   |Gigantic (A Tale of Two Johns) (2002)              |4.573835372924805 |\n",
            "|1     |26171  |Play Time (a.k.a. Playtime) (1967)                 |4.88733990987142  |\n",
            "|1     |92475  |All Watched Over by Machines of Loving Grace (2011)|4.648160934448242 |\n",
            "|1     |132333 |Seve (2014)                                        |4.644354184468588 |\n",
            "|1     |171495 |Cosmos                                             |4.665427525838217 |\n",
            "+------+-------+---------------------------------------------------+------------------+\n",
            "\n"
          ]
        }
      ]
    },
    {
      "cell_type": "code",
      "source": [
        "from pyspark.ml.evaluation import RegressionEvaluator\n",
        "\n",
        "# Make predictions on the test data\n",
        "predictions = model.transform(test_data)\n",
        "\n",
        "# Instantiate a RegressionEvaluator to compute R2\n",
        "evaluator = RegressionEvaluator(metricName=\"r2\", labelCol=\"rating\", predictionCol=\"prediction\")\n",
        "\n",
        "# Calculate R2\n",
        "r2_value = evaluator.evaluate(predictions)\n",
        "\n",
        "# Print the R2 value\n",
        "print(f\"R² Value: {r2_value}\")\n"
      ],
      "metadata": {
        "colab": {
          "base_uri": "https://localhost:8080/"
        },
        "id": "Rb1OaPSxtCch",
        "outputId": "6793ab56-5cdf-4e07-a9d0-ecedf6caacc8"
      },
      "execution_count": 10,
      "outputs": [
        {
          "output_type": "stream",
          "name": "stdout",
          "text": [
            "R² Value: 0.6244224782581024\n"
          ]
        }
      ]
    },
    {
      "cell_type": "markdown",
      "source": [
        "# New section"
      ],
      "metadata": {
        "id": "XXJzBtlg00xu"
      }
    },
    {
      "cell_type": "markdown",
      "source": [],
      "metadata": {
        "id": "nKPg9vxBnMpm"
      }
    }
  ],
  "metadata": {
    "kernelspec": {
      "display_name": "dev",
      "language": "python",
      "name": "python3"
    },
    "language_info": {
      "codemirror_mode": {
        "name": "ipython",
        "version": 3
      },
      "file_extension": ".py",
      "mimetype": "text/x-python",
      "name": "python",
      "nbconvert_exporter": "python",
      "pygments_lexer": "ipython3",
      "version": "3.10.15"
    },
    "colab": {
      "provenance": []
    }
  },
  "nbformat": 4,
  "nbformat_minor": 0
}