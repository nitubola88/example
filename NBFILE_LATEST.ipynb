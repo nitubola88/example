{
  "nbformat": 4,
  "nbformat_minor": 0,
  "metadata": {
    "colab": {
      "provenance": []
    },
    "kernelspec": {
      "name": "python3",
      "display_name": "Python 3"
    },
    "language_info": {
      "name": "python"
    }
  },
  "cells": [
    {
      "cell_type": "code",
      "execution_count": 1,
      "metadata": {
        "colab": {
          "base_uri": "https://localhost:8080/"
        },
        "id": "x0YGvBI1m_oJ",
        "outputId": "49607ea7-13d4-4193-8134-77cd846199ea"
      },
      "outputs": [
        {
          "output_type": "stream",
          "name": "stdout",
          "text": [
            "\r0% [Working]\r            \rGet:1 https://cloud.r-project.org/bin/linux/ubuntu jammy-cran40/ InRelease [3,632 B]\n",
            "Get:2 https://developer.download.nvidia.com/compute/cuda/repos/ubuntu2204/x86_64  InRelease [1,581 B]\n",
            "Hit:3 http://archive.ubuntu.com/ubuntu jammy InRelease\n",
            "Get:4 http://security.ubuntu.com/ubuntu jammy-security InRelease [129 kB]\n",
            "Get:5 https://r2u.stat.illinois.edu/ubuntu jammy InRelease [6,555 B]\n",
            "Get:6 http://archive.ubuntu.com/ubuntu jammy-updates InRelease [128 kB]\n",
            "Get:7 https://cloud.r-project.org/bin/linux/ubuntu jammy-cran40/ Packages [69.9 kB]\n",
            "Get:8 https://developer.download.nvidia.com/compute/cuda/repos/ubuntu2204/x86_64  Packages [1,378 kB]\n",
            "Get:9 https://ppa.launchpadcontent.net/deadsnakes/ppa/ubuntu jammy InRelease [18.1 kB]\n",
            "Get:10 http://archive.ubuntu.com/ubuntu jammy-backports InRelease [127 kB]\n",
            "Get:11 https://ppa.launchpadcontent.net/graphics-drivers/ppa/ubuntu jammy InRelease [24.3 kB]\n",
            "Hit:12 https://ppa.launchpadcontent.net/ubuntugis/ppa/ubuntu jammy InRelease\n",
            "Get:13 https://r2u.stat.illinois.edu/ubuntu jammy/main all Packages [8,753 kB]\n",
            "Get:14 http://security.ubuntu.com/ubuntu jammy-security/main amd64 Packages [2,692 kB]\n",
            "Get:15 http://archive.ubuntu.com/ubuntu jammy-updates/main amd64 Packages [3,000 kB]\n",
            "Get:16 https://r2u.stat.illinois.edu/ubuntu jammy/main amd64 Packages [2,674 kB]\n",
            "Get:17 http://security.ubuntu.com/ubuntu jammy-security/universe amd64 Packages [1,236 kB]\n",
            "Get:18 https://ppa.launchpadcontent.net/deadsnakes/ppa/ubuntu jammy/main amd64 Packages [33.6 kB]\n",
            "Get:19 http://archive.ubuntu.com/ubuntu jammy-updates/universe amd64 Packages [1,535 kB]\n",
            "Get:20 https://ppa.launchpadcontent.net/graphics-drivers/ppa/ubuntu jammy/main amd64 Packages [46.8 kB]\n",
            "Fetched 21.9 MB in 4s (6,138 kB/s)\n",
            "Reading package lists... Done\n",
            "W: Skipping acquire of configured file 'main/source/Sources' as repository 'https://r2u.stat.illinois.edu/ubuntu jammy InRelease' does not seem to provide it (sources.list entry misspelt?)\n"
          ]
        }
      ],
      "source": [
        "import os\n",
        "# Find the latest version of spark 3.x  from https://downloads.apache.org/spark/ and enter as the spark version\n",
        "# For example:\n",
        "# spark_version = 'spark-3.5.5'\n",
        "spark_version = 'spark-3.5.5'\n",
        "os.environ['SPARK_VERSION']=spark_version\n",
        "\n",
        "# Install Spark and Java\n",
        "!apt-get update\n",
        "!apt-get install openjdk-11-jdk-headless -qq > /dev/null\n",
        "!wget -q https://downloads.apache.org/spark/$SPARK_VERSION/$SPARK_VERSION-bin-hadoop3.tgz\n",
        "!tar xf $SPARK_VERSION-bin-hadoop3.tgz\n",
        "!pip install -q findspark\n",
        "\n",
        "# Set Environment Variables\n",
        "os.environ[\"JAVA_HOME\"] = \"/usr/lib/jvm/java-11-openjdk-amd64\"\n",
        "os.environ[\"SPARK_HOME\"] = f\"/content/{spark_version}-bin-hadoop3\"\n",
        "\n",
        "# Start a SparkSession\n",
        "import findspark\n",
        "findspark.init()"
      ]
    },
    {
      "cell_type": "code",
      "source": [
        "from pyspark.sql import SparkSession\n",
        "from pyspark.sql.functions import col, explode\n",
        "from pyspark.ml.feature import StringIndexer, OneHotEncoder\n",
        "from pyspark.ml import Pipeline\n",
        "from pyspark.ml.recommendation import ALS\n",
        "from pyspark.ml.evaluation import RegressionEvaluator\n",
        "from pyspark.ml.tuning import ParamGridBuilder, CrossValidator\n",
        "import json"
      ],
      "metadata": {
        "id": "SgVt6s4VnPDq"
      },
      "execution_count": 2,
      "outputs": []
    },
    {
      "cell_type": "code",
      "source": [
        "# Initialize Spark session\n",
        "spark = SparkSession.builder.appName(\"MoviesData\").getOrCreate()\n",
        "\n",
        "# Load the JSON file into a PySpark DataFrame\n",
        "df = spark.read.json(\"movie_results.json\")  # Replace with your JSON file path\n",
        "\n",
        "# Show the structure of the JSON to understand the data\n",
        "df.printSchema()"
      ],
      "metadata": {
        "colab": {
          "base_uri": "https://localhost:8080/"
        },
        "id": "M6J6FO6knPGy",
        "outputId": "c14872ab-a671-4727-a2b6-9ea73383de2c"
      },
      "execution_count": 3,
      "outputs": [
        {
          "output_type": "stream",
          "name": "stdout",
          "text": [
            "root\n",
            " |-- adult: boolean (nullable = true)\n",
            " |-- backdrop_path: string (nullable = true)\n",
            " |-- belongs_to_collection: struct (nullable = true)\n",
            " |    |-- backdrop_path: string (nullable = true)\n",
            " |    |-- id: long (nullable = true)\n",
            " |    |-- name: string (nullable = true)\n",
            " |    |-- poster_path: string (nullable = true)\n",
            " |-- budget: long (nullable = true)\n",
            " |-- error: long (nullable = true)\n",
            " |-- genres: array (nullable = true)\n",
            " |    |-- element: struct (containsNull = true)\n",
            " |    |    |-- id: long (nullable = true)\n",
            " |    |    |-- name: string (nullable = true)\n",
            " |-- homepage: string (nullable = true)\n",
            " |-- id: long (nullable = true)\n",
            " |-- imdb_id: string (nullable = true)\n",
            " |-- origin_country: array (nullable = true)\n",
            " |    |-- element: string (containsNull = true)\n",
            " |-- original_language: string (nullable = true)\n",
            " |-- original_title: string (nullable = true)\n",
            " |-- overview: string (nullable = true)\n",
            " |-- popularity: double (nullable = true)\n",
            " |-- poster_path: string (nullable = true)\n",
            " |-- production_companies: array (nullable = true)\n",
            " |    |-- element: struct (containsNull = true)\n",
            " |    |    |-- id: long (nullable = true)\n",
            " |    |    |-- logo_path: string (nullable = true)\n",
            " |    |    |-- name: string (nullable = true)\n",
            " |    |    |-- origin_country: string (nullable = true)\n",
            " |-- production_countries: array (nullable = true)\n",
            " |    |-- element: struct (containsNull = true)\n",
            " |    |    |-- iso_3166_1: string (nullable = true)\n",
            " |    |    |-- name: string (nullable = true)\n",
            " |-- release_date: string (nullable = true)\n",
            " |-- revenue: long (nullable = true)\n",
            " |-- runtime: long (nullable = true)\n",
            " |-- spoken_languages: array (nullable = true)\n",
            " |    |-- element: struct (containsNull = true)\n",
            " |    |    |-- english_name: string (nullable = true)\n",
            " |    |    |-- iso_639_1: string (nullable = true)\n",
            " |    |    |-- name: string (nullable = true)\n",
            " |-- status: string (nullable = true)\n",
            " |-- tagline: string (nullable = true)\n",
            " |-- title: string (nullable = true)\n",
            " |-- video: boolean (nullable = true)\n",
            " |-- vote_average: double (nullable = true)\n",
            " |-- vote_count: long (nullable = true)\n",
            "\n"
          ]
        }
      ]
    },
    {
      "cell_type": "code",
      "source": [
        "# Extract the genre names (explode the array of genres to a new row per genre)\n",
        "df_genres = df.select(\n",
        "    col(\"id\").alias(\"movieId\"),\n",
        "    explode(col(\"genres\")).alias(\"genre\")\n",
        ").select(\n",
        "    \"movieId\",\n",
        "    col(\"genre.name\").alias(\"genre_name\")\n",
        ")\n",
        "# Index the genre names (convert them to numerical values)\n",
        "indexer = StringIndexer(inputCol=\"genre_name\", outputCol=\"genre_index\")\n",
        "\n",
        "# Encode the genre indices using OneHotEncoder\n",
        "encoder = OneHotEncoder(inputCol=\"genre_index\", outputCol=\"genre_vec\")\n",
        "\n",
        "# Combine indexing and encoding in a pipeline\n",
        "pipeline = Pipeline(stages=[indexer, encoder])\n",
        "genre_model = pipeline.fit(df_genres)\n",
        "df_genres_encoded = genre_model.transform(df_genres)\n",
        "\n",
        "# Now join the original movie DataFrame with the encoded genres\n",
        "df_selected = df.select(\n",
        "    col(\"id\").alias(\"movieId\"),\n",
        "    col(\"title\").alias(\"name\"),\n",
        "    col(\"popularity\")\n",
        ")\n",
        "\n",
        "df_with_genre = df_selected.join(df_genres_encoded, on=\"movieId\", how=\"left\")"
      ],
      "metadata": {
        "id": "kjKsSwhznPJp"
      },
      "execution_count": 4,
      "outputs": []
    },
    {
      "cell_type": "code",
      "source": [
        "# Now join with ratings DataFrame (assuming 'ratings.csv' exists)\n",
        "rating_df = spark.read.csv('ratings.csv', header=True, inferSchema=True)\n",
        "links_df = spark.read.csv('links.csv', header=True, inferSchema=True)\n",
        "\n",
        "# Join df_with_genre with links_df to add tmdbId and then join with rating_df\n",
        "df_with_tmdb = df_with_genre.join(links_df, 'movieId', 'inner')\n",
        "final_df = df_with_tmdb.join(rating_df, 'movieId', 'inner')\n",
        "\n",
        "# Select the minimal required columns\n",
        "final_df_selected = final_df.select(\n",
        "    col(\"userId\"),\n",
        "    col(\"tmdbId\"),\n",
        "    col(\"name\"),\n",
        "    col(\"popularity\"),\n",
        "    col(\"rating\"),\n",
        "    col(\"genre_vec\")  # Include the genre vector\n",
        ")\n",
        "\n",
        "# Show the final DataFrame to verify\n",
        "final_df_selected.show(truncate=False)"
      ],
      "metadata": {
        "colab": {
          "base_uri": "https://localhost:8080/"
        },
        "id": "xrVCrVxSnPMA",
        "outputId": "6b8bf2f5-36a6-4e00-f088-c13eedb9bb03"
      },
      "execution_count": 5,
      "outputs": [
        {
          "output_type": "stream",
          "name": "stdout",
          "text": [
            "+------+------+------------------------------------+----------+------+---------------+\n",
            "|userId|tmdbId|name                                |popularity|rating|genre_vec      |\n",
            "+------+------+------------------------------------+----------+------+---------------+\n",
            "|104   |61337 |Ray                                 |3.581     |2.0   |(18,[0],[1.0]) |\n",
            "|104   |61337 |Ray                                 |3.581     |2.0   |(18,[16],[1.0])|\n",
            "|156   |61337 |Ray                                 |3.581     |3.0   |(18,[0],[1.0]) |\n",
            "|156   |61337 |Ray                                 |3.581     |3.0   |(18,[16],[1.0])|\n",
            "|156   |24086 |Harley Davidson and the Marlboro Man|3.623     |3.0   |(18,[1],[1.0]) |\n",
            "|156   |24086 |Harley Davidson and the Marlboro Man|3.623     |3.0   |(18,[3],[1.0]) |\n",
            "|196   |24086 |Harley Davidson and the Marlboro Man|3.623     |4.0   |(18,[1],[1.0]) |\n",
            "|196   |24086 |Harley Davidson and the Marlboro Man|3.623     |4.0   |(18,[3],[1.0]) |\n",
            "|267   |24086 |Harley Davidson and the Marlboro Man|3.623     |5.0   |(18,[1],[1.0]) |\n",
            "|267   |24086 |Harley Davidson and the Marlboro Man|3.623     |5.0   |(18,[3],[1.0]) |\n",
            "|417   |24086 |Harley Davidson and the Marlboro Man|3.623     |4.0   |(18,[1],[1.0]) |\n",
            "|417   |24086 |Harley Davidson and the Marlboro Man|3.623     |4.0   |(18,[3],[1.0]) |\n",
            "|473   |24086 |Harley Davidson and the Marlboro Man|3.623     |3.0   |(18,[1],[1.0]) |\n",
            "|473   |24086 |Harley Davidson and the Marlboro Man|3.623     |3.0   |(18,[3],[1.0]) |\n",
            "|536   |24086 |Harley Davidson and the Marlboro Man|3.623     |2.0   |(18,[1],[1.0]) |\n",
            "|536   |24086 |Harley Davidson and the Marlboro Man|3.623     |2.0   |(18,[3],[1.0]) |\n",
            "|648   |24086 |Harley Davidson and the Marlboro Man|3.623     |2.0   |(18,[1],[1.0]) |\n",
            "|648   |24086 |Harley Davidson and the Marlboro Man|3.623     |2.0   |(18,[3],[1.0]) |\n",
            "|670   |24086 |Harley Davidson and the Marlboro Man|3.623     |5.0   |(18,[1],[1.0]) |\n",
            "|670   |24086 |Harley Davidson and the Marlboro Man|3.623     |5.0   |(18,[3],[1.0]) |\n",
            "+------+------+------------------------------------+----------+------+---------------+\n",
            "only showing top 20 rows\n",
            "\n"
          ]
        }
      ]
    },
    {
      "cell_type": "code",
      "source": [
        "# Ensure there are no missing ratings\n",
        "final_df_selected = final_df_selected.dropna(subset=['rating'])\n",
        "\n",
        "# Split data into training and test sets\n",
        "(training_data, test_data) = final_df_selected.randomSplit([0.8, 0.2], seed=1234)"
      ],
      "metadata": {
        "id": "7g8gQw4wndLw"
      },
      "execution_count": 6,
      "outputs": []
    },
    {
      "cell_type": "code",
      "source": [
        "def train_evaluate_als(rank_value=100):\n",
        "    als = ALS(\n",
        "        userCol=\"userId\",\n",
        "        itemCol=\"tmdbId\",\n",
        "        ratingCol=\"rating\",\n",
        "        maxIter=20,  # Keeping iterations constant\n",
        "        rank=rank_value,  # Fixed rank at 100\n",
        "        regParam=0.05,  # Regularization\n",
        "        alpha=0.5,  # For implicit feedback (if applicable)\n",
        "        coldStartStrategy=\"drop\"\n",
        "    )\n",
        "\n",
        "    # Train the model\n",
        "    model = als.fit(training_data)\n",
        "\n",
        "    # Get predictions\n",
        "    predictions = model.transform(test_data)\n",
        "\n",
        "    # Evaluate R-squared\n",
        "    evaluator_r2 = RegressionEvaluator(metricName=\"r2\", labelCol=\"rating\", predictionCol=\"prediction\")\n",
        "    r2 = evaluator_r2.evaluate(predictions)\n",
        "\n",
        "    print(f\"R-squared for rank={rank_value}: {r2}\")\n",
        "\n",
        "    # Save the trained model\n",
        "    model.write().overwrite().save(\"als_movie_model\")\n",
        "    print(\"Model saved successfully\")\n",
        "\n",
        "    return r2\n",
        "\n",
        "# Train and evaluate ALS with rank=100\n",
        "r2_value = train_evaluate_als(rank_value=100)\n",
        "\n",
        "# Display the R-squared value for rank=100\n",
        "print(f\"\\nR-squared for rank=100: {r2_value}\")"
      ],
      "metadata": {
        "colab": {
          "base_uri": "https://localhost:8080/"
        },
        "id": "ziAc3TvxndPH",
        "outputId": "aab2ad3b-529d-4310-bfae-66a50fe064ca"
      },
      "execution_count": 10,
      "outputs": [
        {
          "output_type": "stream",
          "name": "stdout",
          "text": [
            "R-squared for rank=100: 0.7688095109185988\n",
            "Model saved successfully\n",
            "\n",
            "R-squared for rank=100: 0.7688095109185988\n"
          ]
        }
      ]
    },
    {
      "cell_type": "code",
      "source": [
        "from pyspark.ml.recommendation import ALSModel\n",
        "\n",
        "# Load the saved model\n",
        "model_path = \"als_movie_model\"  # Update with your actual path if different\n",
        "model = ALSModel.load(model_path)\n",
        "print(\"Model loaded successfully!\")\n",
        "\n",
        "# Get predictions using the loaded model\n",
        "predictions = model.transform(test_data)\n",
        "\n",
        "# Evaluate R-squared\n",
        "evaluator_r2 = RegressionEvaluator(metricName=\"r2\", labelCol=\"rating\", predictionCol=\"prediction\")\n",
        "r2 = evaluator_r2.evaluate(predictions)\n",
        "\n",
        "print(f\"R-squared from loaded model: {r2}\")"
      ],
      "metadata": {
        "id": "D8h-oGgkpNBC",
        "colab": {
          "base_uri": "https://localhost:8080/"
        },
        "outputId": "2700eb6e-02fa-408e-e2d4-4cb68b23be18"
      },
      "execution_count": 13,
      "outputs": [
        {
          "output_type": "stream",
          "name": "stdout",
          "text": [
            "Model loaded successfully!\n",
            "R-squared from loaded model: 0.7688095109185988\n"
          ]
        }
      ]
    },
    {
      "cell_type": "code",
      "source": [
        "# Evaluate RMSE\n",
        "evaluator_rmse = RegressionEvaluator(metricName=\"rmse\", labelCol=\"rating\", predictionCol=\"prediction\")\n",
        "rmse = evaluator_rmse.evaluate(predictions)\n",
        "print(f\"RMSE: {rmse}\")\n",
        "\n",
        "# Evaluate MAE\n",
        "evaluator_mae = RegressionEvaluator(metricName=\"mae\", labelCol=\"rating\", predictionCol=\"prediction\")\n",
        "mae = evaluator_mae.evaluate(predictions)\n",
        "print(f\"MAE: {mae}\")\n"
      ],
      "metadata": {
        "colab": {
          "base_uri": "https://localhost:8080/"
        },
        "id": "8fMhs5u5VGdK",
        "outputId": "2c45292d-9a57-49bb-b68b-c728ce55fb92"
      },
      "execution_count": 45,
      "outputs": [
        {
          "output_type": "stream",
          "name": "stdout",
          "text": [
            "RMSE: 0.40584829697679436\n",
            "MAE: 0.2973501348507395\n"
          ]
        }
      ]
    },
    {
      "cell_type": "code",
      "source": [
        "from pyspark.sql import functions as F  # Import F for functions\n",
        "predictions.select(F.min(\"prediction\").alias(\"min_prediction\"),\n",
        "                   F.max(\"prediction\").alias(\"max_prediction\")).show()"
      ],
      "metadata": {
        "id": "Sc17Nd6nndSI",
        "colab": {
          "base_uri": "https://localhost:8080/"
        },
        "outputId": "f4abc0a5-c82f-4a4c-d652-ac1d8fd5d20b"
      },
      "execution_count": 44,
      "outputs": [
        {
          "output_type": "stream",
          "name": "stdout",
          "text": [
            "+--------------+--------------+\n",
            "|min_prediction|max_prediction|\n",
            "+--------------+--------------+\n",
            "|     0.4065936|     5.3228064|\n",
            "+--------------+--------------+\n",
            "\n"
          ]
        }
      ]
    },
    {
      "cell_type": "code",
      "source": [
        "# Generate top N recommendations for all users (e.g., Top 10)\n",
        "top_n_recommendations = model.recommendForAllUsers(10)\n",
        "\n",
        "# Explode the recommendations to get one row per movie recommendation\n",
        "exploded_recommendations = top_n_recommendations.select(\n",
        "    \"userId\",\n",
        "    explode(\"recommendations\").alias(\"recommendation\")\n",
        ")\n",
        "\n",
        "# Extract tmdbId and predicted rating from the exploded recommendations\n",
        "final_recommendations = exploded_recommendations.select(\n",
        "    \"userId\",\n",
        "    col(\"recommendation.tmdbId\").alias(\"tmdbId\"),\n",
        "    col(\"recommendation.rating\").alias(\"predicted_rating\")\n",
        ")\n",
        "\n",
        "# Now, join the recommendations with the movie metadata (using the correct column names)\n",
        "final_with_metadata = final_recommendations.join(df_with_tmdb, \"tmdbId\", \"inner\")\n",
        "\n",
        "# Show the recommendations with movie details (name, popularity, genre, etc.)\n",
        "final_with_metadata.select(\n",
        "    \"userId\",\n",
        "    \"tmdbId\",\n",
        "    \"predicted_rating\",\n",
        "    \"name\",  # 'name' instead of 'title'\n",
        "    \"genre_name\"  # 'genre_name' instead of 'genre'\n",
        ").show(truncate=False)\n"
      ],
      "metadata": {
        "id": "zHw_IY3XndVX",
        "colab": {
          "base_uri": "https://localhost:8080/"
        },
        "outputId": "35f7a27c-9be1-4d70-fa64-493eb7d6b979"
      },
      "execution_count": 50,
      "outputs": [
        {
          "output_type": "stream",
          "name": "stdout",
          "text": [
            "+------+------+----------------+----------------------------------+---------------+\n",
            "|userId|tmdbId|predicted_rating|name                              |genre_name     |\n",
            "+------+------+----------------+----------------------------------+---------------+\n",
            "|1     |16133 |3.9899487       |Four Lions                        |Comedy         |\n",
            "|1     |16133 |3.9899487       |Four Lions                        |Crime          |\n",
            "|1     |16133 |3.9899487       |Four Lions                        |Drama          |\n",
            "|1     |11    |3.9896953       |The 39 Steps                      |Mystery        |\n",
            "|1     |11    |3.9896953       |The 39 Steps                      |Thriller       |\n",
            "|1     |101   |3.9872937       |A River Runs Through It           |Drama          |\n",
            "|1     |101   |3.9872937       |A River Runs Through It           |Family         |\n",
            "|1     |914   |3.967852        |Bean                              |Family         |\n",
            "|1     |914   |3.967852        |Bean                              |Adventure      |\n",
            "|1     |914   |3.967852        |Bean                              |Comedy         |\n",
            "|1     |680   |3.9522805       |Terminator 3: Rise of the Machines|Action         |\n",
            "|1     |680   |3.9522805       |Terminator 3: Rise of the Machines|Thriller       |\n",
            "|1     |680   |3.9522805       |Terminator 3: Rise of the Machines|Science Fiction|\n",
            "|1     |107   |3.9482064       |Beetlejuice                       |Fantasy        |\n",
            "|1     |107   |3.9482064       |Beetlejuice                       |Comedy         |\n",
            "|1     |3034  |3.947528        |The Dreamers                      |Drama          |\n",
            "|1     |3034  |3.947528        |The Dreamers                      |Romance        |\n",
            "|1     |7347  |3.9450874       |Bridesmaids                       |Comedy         |\n",
            "|1     |7347  |3.9450874       |Bridesmaids                       |Romance        |\n",
            "|1     |769   |3.9394593       |The Talented Mr. Ripley           |Thriller       |\n",
            "+------+------+----------------+----------------------------------+---------------+\n",
            "only showing top 20 rows\n",
            "\n"
          ]
        }
      ]
    }
  ]
}