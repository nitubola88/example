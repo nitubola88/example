{
  "cells": [
    {
      "cell_type": "code",
      "source": [
        "# Import necessary libraries\n",
        "from pyspark.sql import SparkSession\n",
        "from pyspark.sql.functions import col, when, rand\n",
        "from pyspark.ml.recommendation import ALS\n",
        "from pyspark.ml.evaluation import RegressionEvaluator\n",
        "from pyspark.sql.types import IntegerType\n",
        "from pyspark.sql.functions import hash, col\n",
        "from pyspark.sql.types import IntegerType\n",
        "from pyspark.sql.functions import col, abs"
      ],
      "metadata": {
        "id": "7qelSvJ6jsDh"
      },
      "execution_count": 1,
      "outputs": []
    },
    {
      "cell_type": "code",
      "source": [
        "import os\n",
        "# Find the latest version of spark 3.x  from https://downloads.apache.org/spark/ and enter as the spark version\n",
        "# For example:\n",
        "# spark_version = 'spark-3.5.5'\n",
        "spark_version = 'spark-3.5.5'\n",
        "os.environ['SPARK_VERSION']=spark_version\n",
        "\n",
        "# Install Spark and Java\n",
        "!apt-get update\n",
        "!apt-get install openjdk-11-jdk-headless -qq > /dev/null\n",
        "!wget -q https://downloads.apache.org/spark/$SPARK_VERSION/$SPARK_VERSION-bin-hadoop3.tgz\n",
        "!tar xf $SPARK_VERSION-bin-hadoop3.tgz\n",
        "!pip install -q findspark\n",
        "\n",
        "# Set Environment Variables\n",
        "os.environ[\"JAVA_HOME\"] = \"/usr/lib/jvm/java-11-openjdk-amd64\"\n",
        "os.environ[\"SPARK_HOME\"] = f\"/content/{spark_version}-bin-hadoop3\"\n",
        "\n",
        "# Start a SparkSession\n",
        "import findspark\n",
        "findspark.init()"
      ],
      "metadata": {
        "colab": {
          "base_uri": "https://localhost:8080/"
        },
        "id": "BzBqucH7jwby",
        "outputId": "1bc78768-d924-4056-df8f-7585e08a65b8"
      },
      "execution_count": 2,
      "outputs": [
        {
          "output_type": "stream",
          "name": "stdout",
          "text": [
            "\r0% [Working]\r            \rHit:1 http://archive.ubuntu.com/ubuntu jammy InRelease\n",
            "\r0% [Waiting for headers] [Connecting to security.ubuntu.com (185.125.190.83)] [Connected to cloud.r-\r                                                                                                    \rGet:2 http://archive.ubuntu.com/ubuntu jammy-updates InRelease [128 kB]\n",
            "\r0% [2 InRelease 88.0 kB/128 kB 69%] [Waiting for headers] [Connected to cloud.r-project.org (108.138\r0% [Waiting for headers] [Connected to cloud.r-project.org (108.138.128.85)] [Connected to r2u.stat.\r                                                                                                    \rGet:3 http://archive.ubuntu.com/ubuntu jammy-backports InRelease [127 kB]\n",
            "Get:4 https://cloud.r-project.org/bin/linux/ubuntu jammy-cran40/ InRelease [3,632 B]\n",
            "Get:5 https://developer.download.nvidia.com/compute/cuda/repos/ubuntu2204/x86_64  InRelease [1,581 B]\n",
            "Get:6 http://security.ubuntu.com/ubuntu jammy-security InRelease [129 kB]\n",
            "Get:7 https://r2u.stat.illinois.edu/ubuntu jammy InRelease [6,555 B]\n",
            "Hit:8 https://ppa.launchpadcontent.net/deadsnakes/ppa/ubuntu jammy InRelease\n",
            "Get:9 http://archive.ubuntu.com/ubuntu jammy-updates/main amd64 Packages [3,000 kB]\n",
            "Get:10 https://ppa.launchpadcontent.net/graphics-drivers/ppa/ubuntu jammy InRelease [24.3 kB]\n",
            "Get:11 http://archive.ubuntu.com/ubuntu jammy-updates/universe amd64 Packages [1,533 kB]\n",
            "Hit:12 https://ppa.launchpadcontent.net/ubuntugis/ppa/ubuntu jammy InRelease\n",
            "Get:13 https://developer.download.nvidia.com/compute/cuda/repos/ubuntu2204/x86_64  Packages [1,375 kB]\n",
            "Get:14 https://r2u.stat.illinois.edu/ubuntu jammy/main amd64 Packages [2,677 kB]\n",
            "Get:15 https://r2u.stat.illinois.edu/ubuntu jammy/main all Packages [8,753 kB]\n",
            "Get:16 http://security.ubuntu.com/ubuntu jammy-security/restricted amd64 Packages [3,798 kB]\n",
            "Get:17 https://ppa.launchpadcontent.net/graphics-drivers/ppa/ubuntu jammy/main amd64 Packages [46.8 kB]\n",
            "Get:18 http://security.ubuntu.com/ubuntu jammy-security/main amd64 Packages [2,692 kB]\n",
            "Fetched 24.3 MB in 3s (8,413 kB/s)\n",
            "Reading package lists... Done\n",
            "W: Skipping acquire of configured file 'main/source/Sources' as repository 'https://r2u.stat.illinois.edu/ubuntu jammy InRelease' does not seem to provide it (sources.list entry misspelt?)\n"
          ]
        }
      ]
    },
    {
      "cell_type": "code",
      "source": [
        "from pyspark.sql import SparkSession\n",
        "\n",
        "# Initialize Spark Session\n",
        "spark = SparkSession.builder.appName(\"MovieRecommendation\").getOrCreate()"
      ],
      "metadata": {
        "id": "8izvbZm4j1Sa"
      },
      "execution_count": 4,
      "outputs": []
    },
    {
      "cell_type": "code",
      "execution_count": 14,
      "metadata": {
        "colab": {
          "base_uri": "https://localhost:8080/"
        },
        "id": "p5D5o77PiDCd",
        "outputId": "9dd30b05-5cca-4054-9ccb-29ef1102c27b"
      },
      "outputs": [
        {
          "output_type": "stream",
          "name": "stdout",
          "text": [
            "+------+------+-------------------+------+----+-----+--------------------+--------------------+-----------------+--------------------+--------------------+--------------------+--------------------+--------------------+--------------------+--------------------+------------+----------+\n",
            "|userId|rating|          timestamp|tmdbId| _c0|adult|       backdrop_path|           genre_ids|original_language|      original_title|            overview|          popularity|         poster_path|        release_date|               title|               video|vote_average|vote_count|\n",
            "+------+------+-------------------+------+----+-----+--------------------+--------------------+-----------------+--------------------+--------------------+--------------------+--------------------+--------------------+--------------------+--------------------+------------+----------+\n",
            "|     1|   3.5|2005-04-02 23:53:47|  8844|2301|False|/pb0FOvhen6lVcNJ7...|['Adventure', 'Fa...|               en|             Jumanji|When siblings Jud...|              14.736|/p67m5dzwyxWd46a6...|          1995-12-15|             Jumanji|               False|       7.239|     10597|\n",
            "|     1|   3.5|2005-04-02 23:31:16|   902|2294|False|/f5ynCAQ1MuDgwoVy...|['Fantasy', 'Scie...|               fr|La Cité des Enfan...|A scientist in a ...|              20.751|/whwT3Q9JxbAYzEc3...|          1995-05-17|The City of Lost ...|               False|        7.24|      1104|\n",
            "|     1|   3.5|2005-04-02 23:33:39|    63|1004|False|/1IWaKG7AWiYMhADx...|['Science Fiction...|               en|      Twelve Monkeys|In the year 2035,...|              46.961|/gt3iyguaCIw8DpQZ...|          1995-12-29|      Twelve Monkeys|               False|         7.6|      8412|\n",
            "|     1|   3.5|2005-04-02 23:32:07|   807|  43|False|/iwgl8zlrrfvfWp9k...|['Crime', 'Myster...|               en|               Se7en|\"Two homicide det...| while his novice...|               Mills| scoffs at his ef...|             144.209|/191nKfP0ehp3uIvW...|  1995-09-22|     Se7en|\n",
            "|     1|   3.5|2005-04-02 23:29:40|   629| 133|False|/7S7PE3vK9Eh5uzCY...|['Drama', 'Crime'...|               en|  The Usual Suspects|Held in an L.A. i...|              56.905|/rWbsxdwF9qQzpTPC...|          1995-07-19|  The Usual Suspects|               False|       8.178|     10482|\n",
            "+------+------+-------------------+------+----+-----+--------------------+--------------------+-----------------+--------------------+--------------------+--------------------+--------------------+--------------------+--------------------+--------------------+------------+----------+\n",
            "only showing top 5 rows\n",
            "\n"
          ]
        }
      ],
      "source": [
        "# Load datasets using Spark\n",
        "ratings_df = spark.read.csv(\"/content/ratings.csv\", header=True, inferSchema=True)\n",
        "links_df = spark.read.csv(\"/content/links.csv\", header=True, inferSchema=True)\n",
        "tmdb_df = spark.read.csv(\"/content/tmdb_movie_metadata.csv\", header=True, inferSchema=True)\n",
        "\n",
        "# Merge ratings with links to get the tmdbId\n",
        "ratings_with_tmdb_df = ratings_df.join(links_df, ratings_df.movieId == links_df.movieId, how=\"inner\")\n",
        "\n",
        "# Merge the result with TMDB movie metadata using tmdbId\n",
        "final_df = ratings_with_tmdb_df.join(tmdb_df, ratings_with_tmdb_df.tmdbId == tmdb_df.id, how=\"inner\")\n",
        "\n",
        "# Drop unnecessary columns (like imdbId and original movieId)\n",
        "final_cleaned_df = final_df.drop(\"movieId\", \"id\", \"imdbId\")\n",
        "\n",
        "# Show cleaned DataFrame\n",
        "final_cleaned_df.show(5)"
      ]
    },
    {
      "cell_type": "code",
      "source": [],
      "metadata": {
        "id": "Cdt3ygfDjrCS"
      },
      "execution_count": null,
      "outputs": []
    },
    {
      "cell_type": "code",
      "execution_count": 15,
      "metadata": {
        "colab": {
          "base_uri": "https://localhost:8080/"
        },
        "id": "nbQO0xFeiDCe",
        "outputId": "dcde797b-5f3e-437d-8b6d-d15594bf542c"
      },
      "outputs": [
        {
          "output_type": "stream",
          "name": "stdout",
          "text": [
            "root\n",
            " |-- userId: integer (nullable = true)\n",
            " |-- rating: double (nullable = true)\n",
            " |-- timestamp: timestamp (nullable = true)\n",
            " |-- tmdbId: integer (nullable = true)\n",
            " |-- _c0: string (nullable = true)\n",
            " |-- adult: string (nullable = true)\n",
            " |-- backdrop_path: string (nullable = true)\n",
            " |-- genre_ids: string (nullable = true)\n",
            " |-- original_language: string (nullable = true)\n",
            " |-- original_title: string (nullable = true)\n",
            " |-- overview: string (nullable = true)\n",
            " |-- popularity: string (nullable = true)\n",
            " |-- poster_path: string (nullable = true)\n",
            " |-- release_date: string (nullable = true)\n",
            " |-- title: string (nullable = true)\n",
            " |-- video: string (nullable = true)\n",
            " |-- vote_average: string (nullable = true)\n",
            " |-- vote_count: string (nullable = true)\n",
            "\n"
          ]
        }
      ],
      "source": [
        "final_cleaned_df.printSchema()"
      ]
    },
    {
      "cell_type": "code",
      "execution_count": 15,
      "metadata": {
        "id": "HjN1foiMiDCe"
      },
      "outputs": [],
      "source": []
    },
    {
      "cell_type": "code",
      "execution_count": 6,
      "metadata": {
        "id": "8X7FreGDiDCe"
      },
      "outputs": [],
      "source": []
    },
    {
      "cell_type": "code",
      "execution_count": 15,
      "metadata": {
        "id": "40lsLl5KiDCe"
      },
      "outputs": [],
      "source": []
    },
    {
      "cell_type": "code",
      "execution_count": null,
      "metadata": {
        "id": "pUqD8PAaiDCf"
      },
      "outputs": [],
      "source": [
        "from pyspark.ml.recommendation import ALS\n",
        "from pyspark.sql import SparkSession\n"
      ]
    },
    {
      "cell_type": "code",
      "execution_count": null,
      "metadata": {
        "id": "aARzLd7NiDCf"
      },
      "outputs": [],
      "source": []
    },
    {
      "cell_type": "code",
      "execution_count": 18,
      "metadata": {
        "id": "27EsfEr_iDCf"
      },
      "outputs": [],
      "source": [
        "# Take a sample of the dataset (e.g., 10% of the data)\n",
        "sampled_df = final_cleaned_df.sample(withReplacement=False, fraction=0.1, seed=42)\n",
        "\n",
        "# Now train the model on the sampled data\n",
        "als = ALS(userCol=\"userId\", itemCol=\"tmdbId\", ratingCol=\"rating\", coldStartStrategy=\"drop\")\n",
        "model = als.fit(sampled_df)"
      ]
    },
    {
      "cell_type": "code",
      "source": [
        "# Generate recommendations for all users\n",
        "user_recommendations = model.recommendForAllUsers(10)\n",
        "\n",
        "# Show the recommendations for the first user to check the format\n",
        "user_recommendations.show(1, False)"
      ],
      "metadata": {
        "colab": {
          "base_uri": "https://localhost:8080/"
        },
        "id": "6GFvJmLXuHG1",
        "outputId": "b74fd023-4574-410b-c78e-f9f7d4a87c5d"
      },
      "execution_count": 19,
      "outputs": [
        {
          "output_type": "stream",
          "name": "stdout",
          "text": [
            "+------+-------------------------------------------------------------------------------------------------------------------------------------------------------------------------------------------------------+\n",
            "|userId|recommendations                                                                                                                                                                                        |\n",
            "+------+-------------------------------------------------------------------------------------------------------------------------------------------------------------------------------------------------------+\n",
            "|1     |[{27040, 4.7850823}, {110416, 4.6502905}, {69735, 4.6469326}, {9702, 4.5780654}, {65229, 4.5767784}, {110420, 4.5746064}, {31011, 4.540538}, {252178, 4.4971094}, {19955, 4.492777}, {77561, 4.405632}]|\n",
            "+------+-------------------------------------------------------------------------------------------------------------------------------------------------------------------------------------------------------+\n",
            "only showing top 1 row\n",
            "\n"
          ]
        }
      ]
    },
    {
      "cell_type": "code",
      "execution_count": 20,
      "metadata": {
        "colab": {
          "base_uri": "https://localhost:8080/"
        },
        "id": "dyJSQdKYiDCf",
        "outputId": "85f85d19-4e9a-433c-b10a-19ab26c50589"
      },
      "outputs": [
        {
          "output_type": "stream",
          "name": "stdout",
          "text": [
            "+------+-----------------------+---------+\n",
            "|userId|title                  |rating   |\n",
            "+------+-----------------------+---------+\n",
            "|1     |Meshes of the Afternoon|4.7850823|\n",
            "|1     |Song of the Sea        |4.6502905|\n",
            "|1     |Batman: Year One       |4.6469326|\n",
            "|1     | Miklo.\"               |4.5780654|\n",
            "|1     |Tomboy                 |4.5767784|\n",
            "|1     |Wolf Children          |4.5746064|\n",
            "|1     |Mr. Nobody             |4.540538 |\n",
            "|1     |'71                    |4.4971094|\n",
            "|1     |I Do                   |4.492777 |\n",
            "|1     |EVA                    |4.405632 |\n",
            "+------+-----------------------+---------+\n",
            "only showing top 10 rows\n",
            "\n"
          ]
        }
      ],
      "source": [
        "# Flatten the recommendations into individual rows\n",
        "flat_recommendations = user_recommendations.withColumn(\"movie\", F.explode(\"recommendations\"))\n",
        "\n",
        "# Extract movie details (tmdbId and rating) from the recommendation column\n",
        "flat_recommendations = flat_recommendations.select(\"userId\", \"movie.tmdbId\", \"movie.rating\")\n",
        "\n",
        "# Join the recommendations with the tmdb dataset to get the movie title\n",
        "final_recommendations = flat_recommendations.join(tmdb_df, flat_recommendations.tmdbId == tmdb_df.id, how=\"inner\")\n",
        "\n",
        "# Select relevant columns (userId, movie title, and rating)\n",
        "final_recommendations = final_recommendations.select(\"userId\", \"title\", \"rating\")\n",
        "\n",
        "# Show the recommendations for the first user\n",
        "final_recommendations.show(10, False)"
      ]
    },
    {
      "cell_type": "code",
      "execution_count": null,
      "metadata": {
        "id": "mRnboOn0iDCf"
      },
      "outputs": [],
      "source": [
        "from sklearn.feature_extraction.text import TfidfVectorizer\n",
        "from sklearn.metrics.pairwise import cosine_similarity\n",
        "\n",
        "# TF-IDF Vectorizer on 'overview' column\n",
        "tfidf_vectorizer = TfidfVectorizer(stop_words='english')\n",
        "tfidf_matrix = tfidf_vectorizer.fit_transform(merged_df['overview'])\n",
        "\n",
        "# Compute cosine similarity between movies based on their overview\n",
        "cosine_sim = cosine_similarity(tfidf_matrix, tfidf_matrix)\n",
        "\n",
        "# Function to recommend similar movies based on movie title\n",
        "def recommend_movies(title, cosine_sim=cosine_sim):\n",
        "    idx = merged_df.index[merged_df['title'] == title].tolist()[0]  # Get the movie index\n",
        "    sim_scores = list(enumerate(cosine_sim[idx]))  # Get similarity scores for the given movie\n",
        "    sim_scores = sorted(sim_scores, key=lambda x: x[1], reverse=True)  # Sort based on similarity scores\n",
        "    sim_scores = sim_scores[1:11]  # Get top 10 recommendations\n",
        "    movie_indices = [i[0] for i in sim_scores]\n",
        "    return merged_df['title'].iloc[movie_indices]  # Return the recommended movie titles\n",
        "\n",
        "# Example: Recommend movies similar to 'Toy Story'\n",
        "recommended_movies = recommend_movies('Toy Story')\n",
        "print(recommended_movies)"
      ]
    },
    {
      "cell_type": "code",
      "execution_count": null,
      "metadata": {
        "id": "Ja_8Q-YTiDCg"
      },
      "outputs": [],
      "source": []
    },
    {
      "cell_type": "code",
      "execution_count": null,
      "metadata": {
        "id": "QtqBl4q5iDCg"
      },
      "outputs": [],
      "source": [
        "\n"
      ]
    }
  ],
  "metadata": {
    "kernelspec": {
      "display_name": "dev",
      "language": "python",
      "name": "python3"
    },
    "language_info": {
      "codemirror_mode": {
        "name": "ipython",
        "version": 3
      },
      "file_extension": ".py",
      "mimetype": "text/x-python",
      "name": "python",
      "nbconvert_exporter": "python",
      "pygments_lexer": "ipython3",
      "version": "3.10.15"
    },
    "colab": {
      "provenance": []
    }
  },
  "nbformat": 4,
  "nbformat_minor": 0
}