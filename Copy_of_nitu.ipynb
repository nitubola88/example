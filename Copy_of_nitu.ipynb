{
  "cells": [
    {
      "cell_type": "code",
      "execution_count": null,
      "metadata": {
        "id": "TKWW1-MV_CXV"
      },
      "outputs": [],
      "source": [
        "# Import necessary libraries\n",
        "from pyspark.sql import SparkSession\n",
        "from pyspark.sql.functions import col, when, rand\n",
        "from pyspark.ml.recommendation import ALS\n",
        "from pyspark.ml.evaluation import RegressionEvaluator\n",
        "from pyspark.sql.types import IntegerType\n",
        "from pyspark.sql.functions import hash, col\n",
        "from pyspark.sql.types import IntegerType\n",
        "from pyspark.sql.functions import col, abs"
      ]
    },
    {
      "cell_type": "code",
      "execution_count": null,
      "metadata": {
        "id": "HrQEiMuS_CXV"
      },
      "outputs": [],
      "source": [
        "# Step 1: Initialize Spark Session\n",
        "#spark = SparkSession.builder \\\n",
        " #   .appName(\"MovieRecommendation\") \\\n",
        " #   .getOrCreate()"
      ]
    },
    {
      "cell_type": "code",
      "execution_count": null,
      "metadata": {
        "colab": {
          "base_uri": "https://localhost:8080/"
        },
        "id": "NStCeKMw_CXV",
        "outputId": "9299f5ec-28b6-49cc-a9b4-200133636141"
      },
      "outputs": [
        {
          "output_type": "stream",
          "name": "stdout",
          "text": [
            "\r0% [Working]\r            \rGet:1 http://security.ubuntu.com/ubuntu jammy-security InRelease [129 kB]\n",
            "Get:2 https://cloud.r-project.org/bin/linux/ubuntu jammy-cran40/ InRelease [3,632 B]\n",
            "Hit:3 https://r2u.stat.illinois.edu/ubuntu jammy InRelease\n",
            "Hit:4 https://developer.download.nvidia.com/compute/cuda/repos/ubuntu2204/x86_64  InRelease\n",
            "Hit:5 http://archive.ubuntu.com/ubuntu jammy InRelease\n",
            "Get:6 https://cloud.r-project.org/bin/linux/ubuntu jammy-cran40/ Packages [69.0 kB]\n",
            "Get:7 http://archive.ubuntu.com/ubuntu jammy-updates InRelease [128 kB]\n",
            "Hit:8 https://ppa.launchpadcontent.net/deadsnakes/ppa/ubuntu jammy InRelease\n",
            "Hit:9 https://ppa.launchpadcontent.net/graphics-drivers/ppa/ubuntu jammy InRelease\n",
            "Hit:10 https://ppa.launchpadcontent.net/ubuntugis/ppa/ubuntu jammy InRelease\n",
            "Hit:11 http://archive.ubuntu.com/ubuntu jammy-backports InRelease\n",
            "Fetched 330 kB in 2s (193 kB/s)\n",
            "Reading package lists... Done\n",
            "W: Skipping acquire of configured file 'main/source/Sources' as repository 'https://r2u.stat.illinois.edu/ubuntu jammy InRelease' does not seem to provide it (sources.list entry misspelt?)\n"
          ]
        }
      ],
      "source": [
        "import os\n",
        "# Find the latest version of spark 3.x  from https://downloads.apache.org/spark/ and enter as the spark version\n",
        "# For example:\n",
        "# spark_version = 'spark-3.5.5'\n",
        "spark_version = 'spark-3.5.5'\n",
        "os.environ['SPARK_VERSION']=spark_version\n",
        "\n",
        "# Install Spark and Java\n",
        "!apt-get update\n",
        "!apt-get install openjdk-11-jdk-headless -qq > /dev/null\n",
        "!wget -q https://downloads.apache.org/spark/$SPARK_VERSION/$SPARK_VERSION-bin-hadoop3.tgz\n",
        "!tar xf $SPARK_VERSION-bin-hadoop3.tgz\n",
        "!pip install -q findspark\n",
        "\n",
        "# Set Environment Variables\n",
        "os.environ[\"JAVA_HOME\"] = \"/usr/lib/jvm/java-11-openjdk-amd64\"\n",
        "os.environ[\"SPARK_HOME\"] = f\"/content/{spark_version}-bin-hadoop3\"\n",
        "\n",
        "# Start a SparkSession\n",
        "import findspark\n",
        "findspark.init()"
      ]
    },
    {
      "cell_type": "code",
      "execution_count": null,
      "metadata": {
        "id": "7aUHPNJN_CXW"
      },
      "outputs": [],
      "source": [
        "# Start Spark session\n",
        "from pyspark.sql import SparkSession\n",
        "spark = SparkSession.builder.appName(\"sparkDates\").getOrCreate()"
      ]
    },
    {
      "cell_type": "code",
      "execution_count": null,
      "metadata": {
        "id": "8cbV5b4r_CXW"
      },
      "outputs": [],
      "source": [
        "# Step 2: Load the dataset (replace with your actual dataset path)\n",
        "\n",
        "df = spark.read.json(\"/content/movie_results.json\")"
      ]
    },
    {
      "cell_type": "code",
      "execution_count": null,
      "metadata": {
        "colab": {
          "base_uri": "https://localhost:8080/"
        },
        "id": "NTzbAl3l_CXW",
        "outputId": "645a960c-7ce0-489d-98b5-adf310e8c12c"
      },
      "outputs": [
        {
          "output_type": "stream",
          "name": "stdout",
          "text": [
            "+-------+--------------------+------------+----------+\n",
            "|     id|               title|vote_average|vote_count|\n",
            "+-------+--------------------+------------+----------+\n",
            "| 950396|           The Gorge|       7.775|      1813|\n",
            "|1126166|         Flight Risk|       6.086|       429|\n",
            "|1064213|               Anora|       7.066|      1601|\n",
            "| 762509|Mufasa: The Lion ...|         7.5|      1601|\n",
            "|1241982|             Moana 2|         7.2|      1809|\n",
            "+-------+--------------------+------------+----------+\n",
            "only showing top 5 rows\n",
            "\n"
          ]
        }
      ],
      "source": [
        "# Step 3: Data Cleaning & Filtering\n",
        "# Step 2: Data Preprocessing\n",
        "df_filtered = df.select(\"id\", \"title\", \"vote_average\", \"vote_count\").filter(\n",
        "    (col(\"vote_average\").isNotNull()) & (col(\"vote_count\") >= 50)\n",
        ")\n",
        "    # Check the first few rows of the filtered data\n",
        "df_filtered.show(5)"
      ]
    },
    {
      "cell_type": "code",
      "source": [
        "# Step 3: Simulate Users for ALS Model\n",
        "# Create user_id by hashing the movie_id to ensure overlap and make it positive\n",
        "df_filtered = df_filtered.withColumn(\"user_id\", abs((hash(\"id\") % 1000)).cast(IntegerType()))\n",
        "\n",
        "# Check the first few rows to ensure the user_id is created\n",
        "df_filtered.select(\"user_id\", \"id\", \"vote_average\").show(5)"
      ],
      "metadata": {
        "colab": {
          "base_uri": "https://localhost:8080/"
        },
        "id": "NfMThU7IAyvw",
        "outputId": "e4ea7ed3-7347-4439-b813-8444ad80dd0b"
      },
      "execution_count": null,
      "outputs": [
        {
          "output_type": "stream",
          "name": "stdout",
          "text": [
            "+-------+-------+------------+\n",
            "|user_id|     id|vote_average|\n",
            "+-------+-------+------------+\n",
            "|    610| 950396|       7.775|\n",
            "|    671|1126166|       6.086|\n",
            "|    860|1064213|       7.066|\n",
            "|    718| 762509|         7.5|\n",
            "|    579|1241982|         7.2|\n",
            "+-------+-------+------------+\n",
            "only showing top 5 rows\n",
            "\n"
          ]
        }
      ]
    },
    {
      "cell_type": "code",
      "source": [
        "# Step 4: Prepare Data for ALS (ALS expects columns: user_id, movie_id, rating)\n",
        "# Step 4: Prepare Data for ALS (ALS expects columns: user_id, movie_id, rating)\n",
        "df_ratings = df_filtered.withColumnRenamed(\"vote_average\", \"rating\") \\\n",
        "                        .select(\"user_id\", \"id\", \"rating\")"
      ],
      "metadata": {
        "id": "8ymne9RjP2G4"
      },
      "execution_count": null,
      "outputs": []
    },
    {
      "cell_type": "code",
      "source": [
        "# Step 5: Train-Test Split\n",
        "train_data, test_data = df_ratings.randomSplit([0.8, 0.2], seed=42)"
      ],
      "metadata": {
        "id": "H7F3HkV7A6zX"
      },
      "execution_count": null,
      "outputs": []
    },
    {
      "cell_type": "code",
      "source": [
        "# Step 2: Check for overlapping user-movie pairs between train and test\n",
        "train_user_movie_pairs = train_data.select(\"user_id\", \"id\").distinct()\n",
        "test_user_movie_pairs = test_data.select(\"user_id\", \"id\").distinct()\n",
        "\n",
        "# Find overlapping pairs by joining\n",
        "overlapping_pairs = train_user_movie_pairs.join(test_user_movie_pairs, on=[\"user_id\", \"id\"], how=\"inner\")\n",
        "\n",
        "# Output the number of overlapping pairs\n",
        "print(f\"Overlapping user-movie pairs: {overlapping_pairs.count()}\")"
      ],
      "metadata": {
        "colab": {
          "base_uri": "https://localhost:8080/"
        },
        "id": "a38bitSsNAEo",
        "outputId": "a6620704-062e-4c1b-a062-9513fb270bf4"
      },
      "execution_count": null,
      "outputs": [
        {
          "output_type": "stream",
          "name": "stdout",
          "text": [
            "Overlapping user-movie pairs: 0\n"
          ]
        }
      ]
    },
    {
      "cell_type": "code",
      "source": [
        "# Show the column names in both DataFrames\n",
        "print(\"df_ratings columns:\", df_ratings.columns)\n",
        "print(\"df_filtered columns:\", df_filtered.columns)"
      ],
      "metadata": {
        "colab": {
          "base_uri": "https://localhost:8080/"
        },
        "id": "_OKiSGW8Vr0o",
        "outputId": "7f623e6d-fa9f-4108-c42c-e0643ef6f842"
      },
      "execution_count": null,
      "outputs": [
        {
          "output_type": "stream",
          "name": "stdout",
          "text": [
            "df_ratings columns: ['user_id', 'id', 'rating']\n",
            "df_filtered columns: ['id', 'title', 'vote_average', 'vote_count', 'user_id']\n"
          ]
        }
      ]
    },
    {
      "cell_type": "code",
      "source": [
        "# Step 1: Perform inner join between df_ratings and df_filtered on movie 'id'\n",
        "common_movies = df_ratings.join(df_filtered, 'id', 'inner')\n",
        "\n",
        "# Step 2: Resolve column name ambiguity\n",
        "# Since both df_ratings and df_filtered have 'user_id', let's rename 'user_id' in df_filtered\n",
        "df_filtered = df_filtered.withColumnRenamed('user_id', 'movie_user_id')\n",
        "\n",
        "# Join again after renaming to avoid ambiguity\n",
        "common_movies = df_ratings.join(df_filtered, 'id', 'inner')\n",
        "\n",
        "# Step 3: Select only relevant columns\n",
        "common_movies = common_movies.select(\n",
        "    'user_id', 'title', 'rating', 'vote_average', 'vote_count'\n",
        ")\n",
        "\n",
        "# Step 4: Show the common movies\n",
        "common_movies.show(10)"
      ],
      "metadata": {
        "colab": {
          "base_uri": "https://localhost:8080/"
        },
        "id": "KkxruBipV393",
        "outputId": "3c001ebc-fca0-4325-89d8-f3461ccbff83"
      },
      "execution_count": null,
      "outputs": [
        {
          "output_type": "stream",
          "name": "stdout",
          "text": [
            "+-------+--------------------+------+------------+----------+\n",
            "|user_id|               title|rating|vote_average|vote_count|\n",
            "+-------+--------------------+------+------------+----------+\n",
            "|    610|           The Gorge| 7.775|       7.775|      1813|\n",
            "|    671|         Flight Risk| 6.086|       6.086|       429|\n",
            "|    860|               Anora| 7.066|       7.066|      1601|\n",
            "|    718|Mufasa: The Lion ...|   7.5|         7.5|      1601|\n",
            "|    579|             Moana 2|   7.2|         7.2|      1809|\n",
            "|    328|Sonic the Hedgehog 3|   7.7|         7.7|      2123|\n",
            "|    599|Captain America: ...| 6.156|       6.156|       967|\n",
            "|      2|                Flow| 8.298|       8.298|      1461|\n",
            "|    660|              Amaran|   7.4|         7.4|       188|\n",
            "|    431|           Mickey 17| 7.039|       7.039|       384|\n",
            "+-------+--------------------+------+------------+----------+\n",
            "only showing top 10 rows\n",
            "\n"
          ]
        }
      ]
    },
    {
      "cell_type": "code",
      "source": [
        "# Step 5: Analyzing the ratings\n",
        "# Find the average rating per movie\n",
        "avg_ratings = common_movies.groupBy('title').agg({'rating': 'avg'}).withColumnRenamed('avg(rating)', 'avg_rating')\n",
        "avg_ratings.show(10)\n",
        "\n",
        "# Step 6: Recommend top 5 movies based on highest average rating\n",
        "top_movies = avg_ratings.orderBy(col('avg_rating').desc()).limit(5)\n",
        "top_movies.show()"
      ],
      "metadata": {
        "colab": {
          "base_uri": "https://localhost:8080/"
        },
        "id": "j1qXIEfyWbb4",
        "outputId": "b54944ab-1cb0-4d32-8b53-18ff23dbe726"
      },
      "execution_count": null,
      "outputs": [
        {
          "output_type": "stream",
          "name": "stdout",
          "text": [
            "+--------------------+----------+\n",
            "|               title|avg_rating|\n",
            "+--------------------+----------+\n",
            "|Raya and the Last...|     7.841|\n",
            "|Penguins of Madag...|     6.525|\n",
            "|            Warcraft|      6.38|\n",
            "|            Poseidon|     5.856|\n",
            "|     My Name Is Khan|       8.0|\n",
            "|  The Last Airbender|     4.637|\n",
            "|My Cousin the Sex...|     6.938|\n",
            "|          The Ritual|     6.257|\n",
            "|Before I Go to Sleep|       6.5|\n",
            "|    The Last Warrior|       6.9|\n",
            "+--------------------+----------+\n",
            "only showing top 10 rows\n",
            "\n",
            "+--------------------+----------+\n",
            "|               title|avg_rating|\n",
            "+--------------------+----------+\n",
            "|                Nude|       9.5|\n",
            "|            Succubus|       9.5|\n",
            "|           Kill Shot|     9.201|\n",
            "|The Shawshank Red...|     8.708|\n",
            "|       The Godfather|     8.689|\n",
            "+--------------------+----------+\n",
            "\n"
          ]
        }
      ]
    },
    {
      "cell_type": "code",
      "source": [
        "print(f\"Train data user-movie pairs count: {train_user_movie_pairs.count()}\")\n",
        "print(f\"Test data user-movie pairs count: {test_user_movie_pairs.count()}\")"
      ],
      "metadata": {
        "colab": {
          "base_uri": "https://localhost:8080/"
        },
        "id": "UzP81rDjQof4",
        "outputId": "45e991f1-48d5-40b8-d28c-d7e682d12bf0"
      },
      "execution_count": null,
      "outputs": [
        {
          "output_type": "stream",
          "name": "stdout",
          "text": [
            "Train data user-movie pairs count: 5093\n",
            "Test data user-movie pairs count: 1197\n"
          ]
        }
      ]
    },
    {
      "cell_type": "code",
      "source": [
        "# Step 6: Build ALS Model\n",
        "als = ALS(rank=10, maxIter=10, regParam=0.1, userCol=\"user_id\", itemCol=\"id\", ratingCol=\"rating\", coldStartStrategy=\"drop\")\n",
        "model = als.fit(train_data)"
      ],
      "metadata": {
        "id": "ZoSGZdAWMbK_"
      },
      "execution_count": null,
      "outputs": []
    },
    {
      "cell_type": "code",
      "source": [],
      "metadata": {
        "id": "K5gnn2gzL1gw"
      },
      "execution_count": null,
      "outputs": []
    },
    {
      "cell_type": "code",
      "source": [],
      "metadata": {
        "id": "m5PVNyHiKh6X"
      },
      "execution_count": null,
      "outputs": []
    },
    {
      "cell_type": "code",
      "source": [
        "# Step 8: Generate Predictions\n",
        "predictions = model.transform(test_data).na.drop()\n",
        "print(f\"Total predictions: {predictions.count()}\")"
      ],
      "metadata": {
        "colab": {
          "base_uri": "https://localhost:8080/"
        },
        "id": "qbyilrxJMEqG",
        "outputId": "732b6580-7001-4294-86df-f4ddc837df58"
      },
      "execution_count": null,
      "outputs": [
        {
          "output_type": "stream",
          "name": "stdout",
          "text": [
            "Total predictions: 0\n"
          ]
        }
      ]
    },
    {
      "cell_type": "code",
      "source": [
        "# If there are no predictions, print a warning\n",
        "# Step 9: Show Prediction Data\n",
        "print(f\"Total predictions: {predictions.count()}\")\n",
        "\n",
        "# Corrected column names: Use 'id' for movie_id instead of 'movie_id'\n",
        "predictions.select(\"id\", \"user_id\", \"rating\", \"prediction\").show(10, truncate=False)"
      ],
      "metadata": {
        "colab": {
          "base_uri": "https://localhost:8080/"
        },
        "id": "MojM4cAVMAi-",
        "outputId": "e4ced2c4-465f-47e6-95ab-4d3d325a52b9"
      },
      "execution_count": null,
      "outputs": [
        {
          "output_type": "stream",
          "name": "stdout",
          "text": [
            "Total predictions: 0\n",
            "+---+-------+------+----------+\n",
            "|id |user_id|rating|prediction|\n",
            "+---+-------+------+----------+\n",
            "+---+-------+------+----------+\n",
            "\n"
          ]
        }
      ]
    },
    {
      "cell_type": "code",
      "source": [
        "# Step 10: Evaluate Model Performance\n",
        "if predictions.count() > 0:\n",
        "    evaluator = RegressionEvaluator(metricName=\"rmse\", labelCol=\"rating\", predictionCol=\"prediction\")\n",
        "    rmse = evaluator.evaluate(predictions)\n",
        "    print(f\"Root Mean Squared Error (RMSE): {rmse}\")\n",
        "else:\n",
        "    print(\"RMSE cannot be computed as no predictions were generated.\")"
      ],
      "metadata": {
        "colab": {
          "base_uri": "https://localhost:8080/"
        },
        "id": "hgxpxBcMLTAo",
        "outputId": "03fd87af-3593-48c3-fb43-49eb0d41c1a9"
      },
      "execution_count": null,
      "outputs": [
        {
          "output_type": "stream",
          "name": "stdout",
          "text": [
            "RMSE cannot be computed as no predictions were generated.\n"
          ]
        }
      ]
    },
    {
      "cell_type": "code",
      "execution_count": null,
      "metadata": {
        "id": "LmpeKv94_CXW"
      },
      "outputs": [],
      "source": []
    },
    {
      "cell_type": "code",
      "execution_count": null,
      "metadata": {
        "id": "D8l9Ks-0_CXW"
      },
      "outputs": [],
      "source": []
    },
    {
      "cell_type": "code",
      "execution_count": null,
      "metadata": {
        "colab": {
          "base_uri": "https://localhost:8080/"
        },
        "id": "wSuveWMV_CXW",
        "outputId": "b60293fd-d38c-4b27-c3eb-624ee8e7d989"
      },
      "outputs": [
        {
          "output_type": "stream",
          "name": "stdout",
          "text": [
            "['movie_id', 'title', 'rating', 'num_votes', 'user_id']\n"
          ]
        }
      ],
      "source": [
        "print(df_enriched.columns)"
      ]
    },
    {
      "cell_type": "code",
      "execution_count": null,
      "metadata": {
        "colab": {
          "base_uri": "https://localhost:8080/",
          "height": 356
        },
        "id": "fy76mglr_CXX",
        "outputId": "a7f59598-319d-41e2-f011-b61da723d38c"
      },
      "outputs": [
        {
          "output_type": "error",
          "ename": "AttributeError",
          "evalue": "'NoneType' object has no attribute 'setCallSite'",
          "traceback": [
            "\u001b[0;31m---------------------------------------------------------------------------\u001b[0m",
            "\u001b[0;31mAttributeError\u001b[0m                            Traceback (most recent call last)",
            "\u001b[0;32m<ipython-input-160-9d5e2a3f48c2>\u001b[0m in \u001b[0;36m<cell line: 0>\u001b[0;34m()\u001b[0m\n\u001b[1;32m      1\u001b[0m \u001b[0;31m# Visualizing the 'num_votes' vs 'rating' (acting as popularity vs rating)\u001b[0m\u001b[0;34m\u001b[0m\u001b[0;34m\u001b[0m\u001b[0m\n\u001b[0;32m----> 2\u001b[0;31m \u001b[0mdf_pandas\u001b[0m \u001b[0;34m=\u001b[0m \u001b[0mdf_enriched\u001b[0m\u001b[0;34m.\u001b[0m\u001b[0mtoPandas\u001b[0m\u001b[0;34m(\u001b[0m\u001b[0;34m)\u001b[0m\u001b[0;34m\u001b[0m\u001b[0;34m\u001b[0m\u001b[0m\n\u001b[0m\u001b[1;32m      3\u001b[0m \u001b[0mplt\u001b[0m\u001b[0;34m.\u001b[0m\u001b[0mfigure\u001b[0m\u001b[0;34m(\u001b[0m\u001b[0mfigsize\u001b[0m\u001b[0;34m=\u001b[0m\u001b[0;34m(\u001b[0m\u001b[0;36m10\u001b[0m\u001b[0;34m,\u001b[0m \u001b[0;36m6\u001b[0m\u001b[0;34m)\u001b[0m\u001b[0;34m)\u001b[0m\u001b[0;34m\u001b[0m\u001b[0;34m\u001b[0m\u001b[0m\n\u001b[1;32m      4\u001b[0m \u001b[0mplt\u001b[0m\u001b[0;34m.\u001b[0m\u001b[0mscatter\u001b[0m\u001b[0;34m(\u001b[0m\u001b[0mdf_pandas\u001b[0m\u001b[0;34m[\u001b[0m\u001b[0;34m'num_votes'\u001b[0m\u001b[0;34m]\u001b[0m\u001b[0;34m,\u001b[0m \u001b[0mdf_pandas\u001b[0m\u001b[0;34m[\u001b[0m\u001b[0;34m'rating'\u001b[0m\u001b[0;34m]\u001b[0m\u001b[0;34m,\u001b[0m \u001b[0malpha\u001b[0m\u001b[0;34m=\u001b[0m\u001b[0;36m0.6\u001b[0m\u001b[0;34m)\u001b[0m\u001b[0;34m\u001b[0m\u001b[0;34m\u001b[0m\u001b[0m\n\u001b[1;32m      5\u001b[0m \u001b[0mplt\u001b[0m\u001b[0;34m.\u001b[0m\u001b[0mtitle\u001b[0m\u001b[0;34m(\u001b[0m\u001b[0;34m\"Popularity (num_votes) vs Rating\"\u001b[0m\u001b[0;34m)\u001b[0m\u001b[0;34m\u001b[0m\u001b[0;34m\u001b[0m\u001b[0m\n",
            "\u001b[0;32m/usr/local/lib/python3.11/dist-packages/pyspark/sql/pandas/conversion.py\u001b[0m in \u001b[0;36mtoPandas\u001b[0;34m(self)\u001b[0m\n\u001b[1;32m    200\u001b[0m \u001b[0;34m\u001b[0m\u001b[0m\n\u001b[1;32m    201\u001b[0m         \u001b[0;31m# Below is toPandas without Arrow optimization.\u001b[0m\u001b[0;34m\u001b[0m\u001b[0;34m\u001b[0m\u001b[0m\n\u001b[0;32m--> 202\u001b[0;31m         \u001b[0mrows\u001b[0m \u001b[0;34m=\u001b[0m \u001b[0mself\u001b[0m\u001b[0;34m.\u001b[0m\u001b[0mcollect\u001b[0m\u001b[0;34m(\u001b[0m\u001b[0;34m)\u001b[0m\u001b[0;34m\u001b[0m\u001b[0;34m\u001b[0m\u001b[0m\n\u001b[0m\u001b[1;32m    203\u001b[0m         \u001b[0;32mif\u001b[0m \u001b[0mlen\u001b[0m\u001b[0;34m(\u001b[0m\u001b[0mrows\u001b[0m\u001b[0;34m)\u001b[0m \u001b[0;34m>\u001b[0m \u001b[0;36m0\u001b[0m\u001b[0;34m:\u001b[0m\u001b[0;34m\u001b[0m\u001b[0;34m\u001b[0m\u001b[0m\n\u001b[1;32m    204\u001b[0m             pdf = pd.DataFrame.from_records(\n",
            "\u001b[0;32m/usr/local/lib/python3.11/dist-packages/pyspark/sql/dataframe.py\u001b[0m in \u001b[0;36mcollect\u001b[0;34m(self)\u001b[0m\n\u001b[1;32m   1260\u001b[0m         \u001b[0;34m[\u001b[0m\u001b[0mRow\u001b[0m\u001b[0;34m(\u001b[0m\u001b[0mage\u001b[0m\u001b[0;34m=\u001b[0m\u001b[0;36m14\u001b[0m\u001b[0;34m,\u001b[0m \u001b[0mname\u001b[0m\u001b[0;34m=\u001b[0m\u001b[0;34m'Tom'\u001b[0m\u001b[0;34m)\u001b[0m\u001b[0;34m,\u001b[0m \u001b[0mRow\u001b[0m\u001b[0;34m(\u001b[0m\u001b[0mage\u001b[0m\u001b[0;34m=\u001b[0m\u001b[0;36m23\u001b[0m\u001b[0;34m,\u001b[0m \u001b[0mname\u001b[0m\u001b[0;34m=\u001b[0m\u001b[0;34m'Alice'\u001b[0m\u001b[0;34m)\u001b[0m\u001b[0;34m,\u001b[0m \u001b[0mRow\u001b[0m\u001b[0;34m(\u001b[0m\u001b[0mage\u001b[0m\u001b[0;34m=\u001b[0m\u001b[0;36m16\u001b[0m\u001b[0;34m,\u001b[0m \u001b[0mname\u001b[0m\u001b[0;34m=\u001b[0m\u001b[0;34m'Bob'\u001b[0m\u001b[0;34m)\u001b[0m\u001b[0;34m]\u001b[0m\u001b[0;34m\u001b[0m\u001b[0;34m\u001b[0m\u001b[0m\n\u001b[1;32m   1261\u001b[0m         \"\"\"\n\u001b[0;32m-> 1262\u001b[0;31m         \u001b[0;32mwith\u001b[0m \u001b[0mSCCallSiteSync\u001b[0m\u001b[0;34m(\u001b[0m\u001b[0mself\u001b[0m\u001b[0;34m.\u001b[0m\u001b[0m_sc\u001b[0m\u001b[0;34m)\u001b[0m\u001b[0;34m:\u001b[0m\u001b[0;34m\u001b[0m\u001b[0;34m\u001b[0m\u001b[0m\n\u001b[0m\u001b[1;32m   1263\u001b[0m             \u001b[0msock_info\u001b[0m \u001b[0;34m=\u001b[0m \u001b[0mself\u001b[0m\u001b[0;34m.\u001b[0m\u001b[0m_jdf\u001b[0m\u001b[0;34m.\u001b[0m\u001b[0mcollectToPython\u001b[0m\u001b[0;34m(\u001b[0m\u001b[0;34m)\u001b[0m\u001b[0;34m\u001b[0m\u001b[0;34m\u001b[0m\u001b[0m\n\u001b[1;32m   1264\u001b[0m         \u001b[0;32mreturn\u001b[0m \u001b[0mlist\u001b[0m\u001b[0;34m(\u001b[0m\u001b[0m_load_from_socket\u001b[0m\u001b[0;34m(\u001b[0m\u001b[0msock_info\u001b[0m\u001b[0;34m,\u001b[0m \u001b[0mBatchedSerializer\u001b[0m\u001b[0;34m(\u001b[0m\u001b[0mCPickleSerializer\u001b[0m\u001b[0;34m(\u001b[0m\u001b[0;34m)\u001b[0m\u001b[0;34m)\u001b[0m\u001b[0;34m)\u001b[0m\u001b[0;34m)\u001b[0m\u001b[0;34m\u001b[0m\u001b[0;34m\u001b[0m\u001b[0m\n",
            "\u001b[0;32m/usr/local/lib/python3.11/dist-packages/pyspark/traceback_utils.py\u001b[0m in \u001b[0;36m__enter__\u001b[0;34m(self)\u001b[0m\n\u001b[1;32m     73\u001b[0m     \u001b[0;32mdef\u001b[0m \u001b[0m__enter__\u001b[0m\u001b[0;34m(\u001b[0m\u001b[0mself\u001b[0m\u001b[0;34m)\u001b[0m\u001b[0;34m:\u001b[0m\u001b[0;34m\u001b[0m\u001b[0;34m\u001b[0m\u001b[0m\n\u001b[1;32m     74\u001b[0m         \u001b[0;32mif\u001b[0m \u001b[0mSCCallSiteSync\u001b[0m\u001b[0;34m.\u001b[0m\u001b[0m_spark_stack_depth\u001b[0m \u001b[0;34m==\u001b[0m \u001b[0;36m0\u001b[0m\u001b[0;34m:\u001b[0m\u001b[0;34m\u001b[0m\u001b[0;34m\u001b[0m\u001b[0m\n\u001b[0;32m---> 75\u001b[0;31m             \u001b[0mself\u001b[0m\u001b[0;34m.\u001b[0m\u001b[0m_context\u001b[0m\u001b[0;34m.\u001b[0m\u001b[0m_jsc\u001b[0m\u001b[0;34m.\u001b[0m\u001b[0msetCallSite\u001b[0m\u001b[0;34m(\u001b[0m\u001b[0mself\u001b[0m\u001b[0;34m.\u001b[0m\u001b[0m_call_site\u001b[0m\u001b[0;34m)\u001b[0m\u001b[0;34m\u001b[0m\u001b[0;34m\u001b[0m\u001b[0m\n\u001b[0m\u001b[1;32m     76\u001b[0m         \u001b[0mSCCallSiteSync\u001b[0m\u001b[0;34m.\u001b[0m\u001b[0m_spark_stack_depth\u001b[0m \u001b[0;34m+=\u001b[0m \u001b[0;36m1\u001b[0m\u001b[0;34m\u001b[0m\u001b[0;34m\u001b[0m\u001b[0m\n\u001b[1;32m     77\u001b[0m \u001b[0;34m\u001b[0m\u001b[0m\n",
            "\u001b[0;31mAttributeError\u001b[0m: 'NoneType' object has no attribute 'setCallSite'"
          ]
        }
      ],
      "source": [
        "# Visualizing the 'num_votes' vs 'rating' (acting as popularity vs rating)\n",
        "df_pandas = df_enriched.toPandas()\n",
        "plt.figure(figsize=(10, 6))\n",
        "plt.scatter(df_pandas['num_votes'], df_pandas['rating'], alpha=0.6)\n",
        "plt.title(\"Popularity (num_votes) vs Rating\")\n",
        "plt.xlabel(\"Popularity (num_votes)\")\n",
        "plt.ylabel(\"Rating\")\n",
        "plt.grid(True)\n",
        "plt.show()"
      ]
    },
    {
      "cell_type": "code",
      "execution_count": null,
      "metadata": {
        "id": "NWJ50xBc_CXX"
      },
      "outputs": [],
      "source": []
    },
    {
      "cell_type": "code",
      "execution_count": null,
      "metadata": {
        "id": "7240llBu_CXX"
      },
      "outputs": [],
      "source": [
        "\n"
      ]
    },
    {
      "cell_type": "code",
      "execution_count": null,
      "metadata": {
        "colab": {
          "base_uri": "https://localhost:8080/",
          "height": 321
        },
        "id": "0pOSa_qn_CXX",
        "outputId": "13a12f10-7170-4a3e-a9d1-d39800633dc9"
      },
      "outputs": [
        {
          "output_type": "error",
          "ename": "AnalysisException",
          "evalue": "[FIELD_NOT_FOUND] No such struct field `movie_id` in `id`, `rating`.",
          "traceback": [
            "\u001b[0;31m---------------------------------------------------------------------------\u001b[0m",
            "\u001b[0;31mAnalysisException\u001b[0m                         Traceback (most recent call last)",
            "\u001b[0;32m<ipython-input-161-bf83443550ef>\u001b[0m in \u001b[0;36m<cell line: 0>\u001b[0;34m()\u001b[0m\n\u001b[1;32m     20\u001b[0m \u001b[0;34m\u001b[0m\u001b[0m\n\u001b[1;32m     21\u001b[0m \u001b[0;31m# Example usage: Get top 5 recommendations for user with user_id = 1\u001b[0m\u001b[0;34m\u001b[0m\u001b[0;34m\u001b[0m\u001b[0m\n\u001b[0;32m---> 22\u001b[0;31m \u001b[0mget_movie_recommendations\u001b[0m\u001b[0;34m(\u001b[0m\u001b[0;36m1\u001b[0m\u001b[0;34m)\u001b[0m\u001b[0;34m\u001b[0m\u001b[0;34m\u001b[0m\u001b[0m\n\u001b[0m",
            "\u001b[0;32m<ipython-input-161-bf83443550ef>\u001b[0m in \u001b[0;36mget_movie_recommendations\u001b[0;34m(user_id, num_recommendations)\u001b[0m\n\u001b[1;32m     10\u001b[0m \u001b[0;34m\u001b[0m\u001b[0m\n\u001b[1;32m     11\u001b[0m     \u001b[0;31m# Flatten the movie recommendations\u001b[0m\u001b[0;34m\u001b[0m\u001b[0;34m\u001b[0m\u001b[0m\n\u001b[0;32m---> 12\u001b[0;31m     \u001b[0muser_recs_flat\u001b[0m \u001b[0;34m=\u001b[0m \u001b[0muser_recs\u001b[0m\u001b[0;34m.\u001b[0m\u001b[0mselect\u001b[0m\u001b[0;34m(\u001b[0m\u001b[0;34m\"user_id\"\u001b[0m\u001b[0;34m,\u001b[0m \u001b[0;34m\"recommendations.movie_id\"\u001b[0m\u001b[0;34m,\u001b[0m \u001b[0;34m\"recommendations.rating\"\u001b[0m\u001b[0;34m)\u001b[0m\u001b[0;34m\u001b[0m\u001b[0;34m\u001b[0m\u001b[0m\n\u001b[0m\u001b[1;32m     13\u001b[0m \u001b[0;34m\u001b[0m\u001b[0m\n\u001b[1;32m     14\u001b[0m     \u001b[0;31m# Join with the movie titles to get the names\u001b[0m\u001b[0;34m\u001b[0m\u001b[0;34m\u001b[0m\u001b[0m\n",
            "\u001b[0;32m/usr/local/lib/python3.11/dist-packages/pyspark/sql/dataframe.py\u001b[0m in \u001b[0;36mselect\u001b[0;34m(self, *cols)\u001b[0m\n\u001b[1;32m   3227\u001b[0m         \u001b[0;34m+\u001b[0m\u001b[0;34m-\u001b[0m\u001b[0;34m-\u001b[0m\u001b[0;34m-\u001b[0m\u001b[0;34m-\u001b[0m\u001b[0;34m-\u001b[0m\u001b[0;34m+\u001b[0m\u001b[0;34m-\u001b[0m\u001b[0;34m-\u001b[0m\u001b[0;34m-\u001b[0m\u001b[0;34m+\u001b[0m\u001b[0;34m\u001b[0m\u001b[0;34m\u001b[0m\u001b[0m\n\u001b[1;32m   3228\u001b[0m         \"\"\"\n\u001b[0;32m-> 3229\u001b[0;31m         \u001b[0mjdf\u001b[0m \u001b[0;34m=\u001b[0m \u001b[0mself\u001b[0m\u001b[0;34m.\u001b[0m\u001b[0m_jdf\u001b[0m\u001b[0;34m.\u001b[0m\u001b[0mselect\u001b[0m\u001b[0;34m(\u001b[0m\u001b[0mself\u001b[0m\u001b[0;34m.\u001b[0m\u001b[0m_jcols\u001b[0m\u001b[0;34m(\u001b[0m\u001b[0;34m*\u001b[0m\u001b[0mcols\u001b[0m\u001b[0;34m)\u001b[0m\u001b[0;34m)\u001b[0m\u001b[0;34m\u001b[0m\u001b[0;34m\u001b[0m\u001b[0m\n\u001b[0m\u001b[1;32m   3230\u001b[0m         \u001b[0;32mreturn\u001b[0m \u001b[0mDataFrame\u001b[0m\u001b[0;34m(\u001b[0m\u001b[0mjdf\u001b[0m\u001b[0;34m,\u001b[0m \u001b[0mself\u001b[0m\u001b[0;34m.\u001b[0m\u001b[0msparkSession\u001b[0m\u001b[0;34m)\u001b[0m\u001b[0;34m\u001b[0m\u001b[0;34m\u001b[0m\u001b[0m\n\u001b[1;32m   3231\u001b[0m \u001b[0;34m\u001b[0m\u001b[0m\n",
            "\u001b[0;32m/usr/local/lib/python3.11/dist-packages/py4j/java_gateway.py\u001b[0m in \u001b[0;36m__call__\u001b[0;34m(self, *args)\u001b[0m\n\u001b[1;32m   1320\u001b[0m \u001b[0;34m\u001b[0m\u001b[0m\n\u001b[1;32m   1321\u001b[0m         \u001b[0manswer\u001b[0m \u001b[0;34m=\u001b[0m \u001b[0mself\u001b[0m\u001b[0;34m.\u001b[0m\u001b[0mgateway_client\u001b[0m\u001b[0;34m.\u001b[0m\u001b[0msend_command\u001b[0m\u001b[0;34m(\u001b[0m\u001b[0mcommand\u001b[0m\u001b[0;34m)\u001b[0m\u001b[0;34m\u001b[0m\u001b[0;34m\u001b[0m\u001b[0m\n\u001b[0;32m-> 1322\u001b[0;31m         return_value = get_return_value(\n\u001b[0m\u001b[1;32m   1323\u001b[0m             answer, self.gateway_client, self.target_id, self.name)\n\u001b[1;32m   1324\u001b[0m \u001b[0;34m\u001b[0m\u001b[0m\n",
            "\u001b[0;32m/usr/local/lib/python3.11/dist-packages/pyspark/errors/exceptions/captured.py\u001b[0m in \u001b[0;36mdeco\u001b[0;34m(*a, **kw)\u001b[0m\n\u001b[1;32m    183\u001b[0m                 \u001b[0;31m# Hide where the exception came from that shows a non-Pythonic\u001b[0m\u001b[0;34m\u001b[0m\u001b[0;34m\u001b[0m\u001b[0m\n\u001b[1;32m    184\u001b[0m                 \u001b[0;31m# JVM exception message.\u001b[0m\u001b[0;34m\u001b[0m\u001b[0;34m\u001b[0m\u001b[0m\n\u001b[0;32m--> 185\u001b[0;31m                 \u001b[0;32mraise\u001b[0m \u001b[0mconverted\u001b[0m \u001b[0;32mfrom\u001b[0m \u001b[0;32mNone\u001b[0m\u001b[0;34m\u001b[0m\u001b[0;34m\u001b[0m\u001b[0m\n\u001b[0m\u001b[1;32m    186\u001b[0m             \u001b[0;32melse\u001b[0m\u001b[0;34m:\u001b[0m\u001b[0;34m\u001b[0m\u001b[0;34m\u001b[0m\u001b[0m\n\u001b[1;32m    187\u001b[0m                 \u001b[0;32mraise\u001b[0m\u001b[0;34m\u001b[0m\u001b[0;34m\u001b[0m\u001b[0m\n",
            "\u001b[0;31mAnalysisException\u001b[0m: [FIELD_NOT_FOUND] No such struct field `movie_id` in `id`, `rating`."
          ]
        }
      ],
      "source": [
        "from pyspark.sql.functions import col\n",
        "\n",
        "# Function to get movie recommendations\n",
        "def get_movie_recommendations(user_id, num_recommendations=5):\n",
        "    # Get the top N movie recommendations for the given user\n",
        "    user_recs = model.recommendForAllUsers(num_recommendations)\n",
        "\n",
        "    # Filter for the specific user\n",
        "    user_recs = user_recs.filter(col(\"user_id\") == user_id)\n",
        "\n",
        "    # Flatten the movie recommendations\n",
        "    user_recs_flat = user_recs.select(\"user_id\", \"recommendations.movie_id\", \"recommendations.rating\")\n",
        "\n",
        "    # Join with the movie titles to get the names\n",
        "    movie_titles = df_filtered.select(\"id\", \"title\")\n",
        "    recommendations_with_titles = user_recs_flat.join(movie_titles, user_recs_flat.movie_id == movie_titles.id, \"inner\")\n",
        "\n",
        "    # Show the results\n",
        "    recommendations_with_titles.select(\"title\", \"rating\").show(num_recommendations)\n",
        "\n",
        "# Example usage: Get top 5 recommendations for user with user_id = 1\n",
        "get_movie_recommendations(1)"
      ]
    }
  ],
  "metadata": {
    "kernelspec": {
      "display_name": "dev",
      "language": "python",
      "name": "python3"
    },
    "language_info": {
      "codemirror_mode": {
        "name": "ipython",
        "version": 3
      },
      "file_extension": ".py",
      "mimetype": "text/x-python",
      "name": "python",
      "nbconvert_exporter": "python",
      "pygments_lexer": "ipython3",
      "version": "3.10.15"
    },
    "colab": {
      "provenance": []
    }
  },
  "nbformat": 4,
  "nbformat_minor": 0
}