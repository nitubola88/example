{
  "nbformat": 4,
  "nbformat_minor": 0,
  "metadata": {
    "colab": {
      "provenance": []
    },
    "kernelspec": {
      "name": "python3",
      "display_name": "Python 3"
    },
    "language_info": {
      "name": "python"
    }
  },
  "cells": [
    {
      "cell_type": "code",
      "execution_count": 1,
      "metadata": {
        "id": "INdKniortYFJ"
      },
      "outputs": [],
      "source": [
        "# Import necessary libraries\n",
        "from pyspark.sql import SparkSession\n",
        "from pyspark.sql import functions as F\n",
        "from pyspark.ml.recommendation import ALS\n",
        "import os\n"
      ]
    },
    {
      "cell_type": "code",
      "source": [
        "# Set up Spark session\n",
        "spark_version = 'spark-3.5.5'\n",
        "os.environ['SPARK_VERSION'] = spark_version"
      ],
      "metadata": {
        "id": "rI9rnKIutkEp"
      },
      "execution_count": 2,
      "outputs": []
    },
    {
      "cell_type": "code",
      "source": [
        "# Install Spark and Java\n",
        "!apt-get update\n",
        "!apt-get install openjdk-11-jdk-headless -qq > /dev/null\n",
        "!wget -q https://downloads.apache.org/spark/$SPARK_VERSION/$SPARK_VERSION-bin-hadoop3.tgz\n",
        "!tar xf $SPARK_VERSION-bin-hadoop3.tgz\n",
        "!pip install -q findspark\n",
        "\n",
        "# Set Environment Variables\n",
        "os.environ[\"JAVA_HOME\"] = \"/usr/lib/jvm/java-11-openjdk-amd64\"\n",
        "os.environ[\"SPARK_HOME\"] = f\"/content/{spark_version}-bin-hadoop3\""
      ],
      "metadata": {
        "colab": {
          "base_uri": "https://localhost:8080/"
        },
        "id": "iJtMai_xtmnC",
        "outputId": "01491547-5091-4241-d873-b2572863983c"
      },
      "execution_count": 3,
      "outputs": [
        {
          "output_type": "stream",
          "name": "stdout",
          "text": [
            "\r0% [Working]\r            \rGet:1 https://cloud.r-project.org/bin/linux/ubuntu jammy-cran40/ InRelease [3,632 B]\n",
            "Get:2 https://developer.download.nvidia.com/compute/cuda/repos/ubuntu2204/x86_64  InRelease [1,581 B]\n",
            "Get:3 http://security.ubuntu.com/ubuntu jammy-security InRelease [129 kB]\n",
            "Hit:4 http://archive.ubuntu.com/ubuntu jammy InRelease\n",
            "Get:5 https://r2u.stat.illinois.edu/ubuntu jammy InRelease [6,555 B]\n",
            "Get:6 http://archive.ubuntu.com/ubuntu jammy-updates InRelease [128 kB]\n",
            "Get:7 https://developer.download.nvidia.com/compute/cuda/repos/ubuntu2204/x86_64  Packages [1,375 kB]\n",
            "Get:8 https://ppa.launchpadcontent.net/deadsnakes/ppa/ubuntu jammy InRelease [18.1 kB]\n",
            "Get:9 https://ppa.launchpadcontent.net/graphics-drivers/ppa/ubuntu jammy InRelease [24.3 kB]\n",
            "Get:10 http://archive.ubuntu.com/ubuntu jammy-backports InRelease [127 kB]\n",
            "Hit:11 https://ppa.launchpadcontent.net/ubuntugis/ppa/ubuntu jammy InRelease\n",
            "Get:12 https://r2u.stat.illinois.edu/ubuntu jammy/main all Packages [8,753 kB]\n",
            "Get:13 http://security.ubuntu.com/ubuntu jammy-security/main amd64 Packages [2,692 kB]\n",
            "Get:14 https://ppa.launchpadcontent.net/deadsnakes/ppa/ubuntu jammy/main amd64 Packages [33.6 kB]\n",
            "Get:15 https://r2u.stat.illinois.edu/ubuntu jammy/main amd64 Packages [2,677 kB]\n",
            "Get:16 http://archive.ubuntu.com/ubuntu jammy-updates/universe amd64 Packages [1,533 kB]\n",
            "Get:17 http://security.ubuntu.com/ubuntu jammy-security/restricted amd64 Packages [3,798 kB]\n",
            "Get:18 https://ppa.launchpadcontent.net/graphics-drivers/ppa/ubuntu jammy/main amd64 Packages [46.8 kB]\n",
            "Get:19 http://archive.ubuntu.com/ubuntu jammy-updates/main amd64 Packages [3,000 kB]\n",
            "Fetched 24.3 MB in 3s (8,828 kB/s)\n",
            "Reading package lists... Done\n",
            "W: Skipping acquire of configured file 'main/source/Sources' as repository 'https://r2u.stat.illinois.edu/ubuntu jammy InRelease' does not seem to provide it (sources.list entry misspelt?)\n"
          ]
        }
      ]
    },
    {
      "cell_type": "code",
      "source": [
        "# Start a SparkSession\n",
        "import findspark\n",
        "findspark.init()\n",
        "# Initialize Spark Session\n",
        "spark = SparkSession.builder.appName(\"MovieRecommendation\").getOrCreate()"
      ],
      "metadata": {
        "id": "S6Lpkydjtp3Y"
      },
      "execution_count": 4,
      "outputs": []
    },
    {
      "cell_type": "code",
      "source": [
        "# Load datasets using Spark\n",
        "ratings_df = spark.read.csv(\"/content/ratings.csv\", header=True, inferSchema=True)\n",
        "links_df = spark.read.csv(\"/content/links.csv\", header=True, inferSchema=True)\n",
        "\n",
        "# Load movie data from movies.json (assuming you have a movies.json file)\n",
        "tmdb_df = spark.read.json(\"/content/movie_results.json\")\n",
        "\n",
        "# Merge ratings with links to get the tmdbId\n",
        "ratings_with_tmdb_df = ratings_df.join(links_df, ratings_df.movieId == links_df.movieId, how=\"inner\")\n",
        "\n",
        "# Merge the result with TMDB movie metadata using tmdbId\n",
        "final_df = ratings_with_tmdb_df.join(tmdb_df, ratings_with_tmdb_df.tmdbId == tmdb_df.id, how=\"inner\")\n",
        "\n",
        "# Drop unnecessary columns (like imdbId and original movieId)\n",
        "final_cleaned_df = final_df.drop(\"movieId\", \"id\", \"imdbId\")"
      ],
      "metadata": {
        "id": "LJ_oa90uttIh"
      },
      "execution_count": 7,
      "outputs": []
    },
    {
      "cell_type": "code",
      "source": [
        "# Split the data into training and testing sets (80% for training, 20% for testing)\n",
        "(training_df, testing_df) = final_cleaned_df.randomSplit([0.8, 0.2], seed=42)\n"
      ],
      "metadata": {
        "id": "H7I6i-iIt2r2"
      },
      "execution_count": 8,
      "outputs": []
    },
    {
      "cell_type": "code",
      "source": [
        "# Initialize ALS model\n",
        "als = ALS(userCol=\"userId\", itemCol=\"tmdbId\", ratingCol=\"rating\", coldStartStrategy=\"drop\")\n",
        "\n",
        "# Train the model on the training data\n",
        "model = als.fit(training_df)"
      ],
      "metadata": {
        "id": "-0Wq3ltZt5JK"
      },
      "execution_count": 9,
      "outputs": []
    },
    {
      "cell_type": "code",
      "source": [
        "# Generate recommendations for all users in the training set\n",
        "user_recommendations = model.recommendForAllUsers(10)\n",
        "\n",
        "# Flatten the recommendations into individual rows\n",
        "flat_recommendations = user_recommendations.withColumn(\"movie\", F.explode(\"recommendations\"))\n",
        "\n",
        "# Extract movie details (tmdbId and rating) from the recommendation column\n",
        "flat_recommendations = flat_recommendations.select(\"userId\", \"movie.tmdbId\", \"movie.rating\")\n",
        "\n",
        "# Join the recommendations with the tmdb dataset to get the movie title\n",
        "final_recommendations = flat_recommendations.join(tmdb_df, flat_recommendations.tmdbId == tmdb_df.id, how=\"inner\")\n",
        "\n",
        "# Select the columns you need: userId, tmdbId (movieId), rating, and title\n",
        "final_recommendations = final_recommendations.select(\"userId\", \"tmdbId\", \"rating\", \"title\")\n",
        "\n",
        "# Show the recommendations for the first few users\n",
        "final_recommendations.show(10, False)"
      ],
      "metadata": {
        "colab": {
          "base_uri": "https://localhost:8080/"
        },
        "id": "kg_i6qFsuFrb",
        "outputId": "da86933d-b289-40ca-95aa-649f5930891e"
      },
      "execution_count": 13,
      "outputs": [
        {
          "output_type": "stream",
          "name": "stdout",
          "text": [
            "+------+------+---------+-------------------------------------+\n",
            "|userId|tmdbId|rating   |title                                |\n",
            "+------+------+---------+-------------------------------------+\n",
            "|1     |25237 |5.655685 |Come and See                         |\n",
            "|1     |17360 |5.602119 |Escape to Victory                    |\n",
            "|1     |17529 |5.5713644|True Grit                            |\n",
            "|1     |34647 |5.488819 |Enter the Void                       |\n",
            "|1     |39324 |5.4854193|Dragon Ball Z: The History of Trunks |\n",
            "|1     |5925  |5.4283996|The Great Escape                     |\n",
            "|1     |961   |5.39575  |The General                          |\n",
            "|1     |7984  |5.357944 |In the Name of the Father            |\n",
            "|1     |4593  |5.3478084|The Discreet Charm of the Bourgeoisie|\n",
            "|1     |3009  |5.3188953|The Trial                            |\n",
            "+------+------+---------+-------------------------------------+\n",
            "only showing top 10 rows\n",
            "\n"
          ]
        }
      ]
    }
  ]
}