{
  "cells": [
    {
      "cell_type": "code",
      "execution_count": 1,
      "metadata": {
        "colab": {
          "base_uri": "https://localhost:8080/"
        },
        "id": "Q2kuj7r0NYgy",
        "outputId": "4494415b-baa7-43ff-bc9f-6d0359783fa2"
      },
      "outputs": [
        {
          "output_type": "stream",
          "name": "stdout",
          "text": [
            "\r0% [Working]\r            \rHit:1 http://archive.ubuntu.com/ubuntu jammy InRelease\n",
            "Hit:2 http://archive.ubuntu.com/ubuntu jammy-updates InRelease\n",
            "Hit:3 http://archive.ubuntu.com/ubuntu jammy-backports InRelease\n",
            "Hit:4 https://cloud.r-project.org/bin/linux/ubuntu jammy-cran40/ InRelease\n",
            "Hit:5 http://security.ubuntu.com/ubuntu jammy-security InRelease\n",
            "Hit:6 https://developer.download.nvidia.com/compute/cuda/repos/ubuntu2204/x86_64  InRelease\n",
            "Hit:7 https://r2u.stat.illinois.edu/ubuntu jammy InRelease\n",
            "Hit:8 https://ppa.launchpadcontent.net/deadsnakes/ppa/ubuntu jammy InRelease\n",
            "Hit:9 https://ppa.launchpadcontent.net/graphics-drivers/ppa/ubuntu jammy InRelease\n",
            "Hit:10 https://ppa.launchpadcontent.net/ubuntugis/ppa/ubuntu jammy InRelease\n",
            "Reading package lists... Done\n",
            "W: Skipping acquire of configured file 'main/source/Sources' as repository 'https://r2u.stat.illinois.edu/ubuntu jammy InRelease' does not seem to provide it (sources.list entry misspelt?)\n"
          ]
        }
      ],
      "source": [
        "import os\n",
        "# Find the latest version of spark 3.x  from https://downloads.apache.org/spark/ and enter as the spark version\n",
        "# For example:\n",
        "# spark_version = 'spark-3.5.5'\n",
        "spark_version = 'spark-3.5.5'\n",
        "os.environ['SPARK_VERSION']=spark_version\n",
        "\n",
        "# Install Spark and Java\n",
        "!apt-get update\n",
        "!apt-get install openjdk-11-jdk-headless -qq > /dev/null\n",
        "!wget -q https://downloads.apache.org/spark/$SPARK_VERSION/$SPARK_VERSION-bin-hadoop3.tgz\n",
        "!tar xf $SPARK_VERSION-bin-hadoop3.tgz\n",
        "!pip install -q findspark\n",
        "\n",
        "# Set Environment Variables\n",
        "os.environ[\"JAVA_HOME\"] = \"/usr/lib/jvm/java-11-openjdk-amd64\"\n",
        "os.environ[\"SPARK_HOME\"] = f\"/content/{spark_version}-bin-hadoop3\"\n",
        "\n",
        "# Start a SparkSession\n",
        "import findspark\n",
        "findspark.init()"
      ]
    },
    {
      "cell_type": "code",
      "execution_count": 2,
      "metadata": {
        "id": "4VT-uewYNbPA"
      },
      "outputs": [],
      "source": [
        "from pyspark.sql import SparkSession\n",
        "from pyspark.sql.functions import col, explode\n",
        "from pyspark.ml.feature import StringIndexer, OneHotEncoder\n",
        "from pyspark.ml import Pipeline\n",
        "from pyspark.ml.recommendation import ALS\n",
        "from pyspark.ml.evaluation import RegressionEvaluator\n",
        "from pyspark.ml.tuning import ParamGridBuilder, CrossValidator\n",
        "import json"
      ]
    },
    {
      "cell_type": "code",
      "execution_count": 3,
      "metadata": {
        "colab": {
          "base_uri": "https://localhost:8080/"
        },
        "id": "VqlOPnYgNdu_",
        "outputId": "3b101677-8f44-4091-9e3d-c6895bffa63f"
      },
      "outputs": [
        {
          "output_type": "stream",
          "name": "stdout",
          "text": [
            "root\n",
            " |-- adult: boolean (nullable = true)\n",
            " |-- backdrop_path: string (nullable = true)\n",
            " |-- belongs_to_collection: struct (nullable = true)\n",
            " |    |-- backdrop_path: string (nullable = true)\n",
            " |    |-- id: long (nullable = true)\n",
            " |    |-- name: string (nullable = true)\n",
            " |    |-- poster_path: string (nullable = true)\n",
            " |-- budget: long (nullable = true)\n",
            " |-- error: long (nullable = true)\n",
            " |-- genres: array (nullable = true)\n",
            " |    |-- element: struct (containsNull = true)\n",
            " |    |    |-- id: long (nullable = true)\n",
            " |    |    |-- name: string (nullable = true)\n",
            " |-- homepage: string (nullable = true)\n",
            " |-- id: long (nullable = true)\n",
            " |-- imdb_id: string (nullable = true)\n",
            " |-- origin_country: array (nullable = true)\n",
            " |    |-- element: string (containsNull = true)\n",
            " |-- original_language: string (nullable = true)\n",
            " |-- original_title: string (nullable = true)\n",
            " |-- overview: string (nullable = true)\n",
            " |-- popularity: double (nullable = true)\n",
            " |-- poster_path: string (nullable = true)\n",
            " |-- production_companies: array (nullable = true)\n",
            " |    |-- element: struct (containsNull = true)\n",
            " |    |    |-- id: long (nullable = true)\n",
            " |    |    |-- logo_path: string (nullable = true)\n",
            " |    |    |-- name: string (nullable = true)\n",
            " |    |    |-- origin_country: string (nullable = true)\n",
            " |-- production_countries: array (nullable = true)\n",
            " |    |-- element: struct (containsNull = true)\n",
            " |    |    |-- iso_3166_1: string (nullable = true)\n",
            " |    |    |-- name: string (nullable = true)\n",
            " |-- release_date: string (nullable = true)\n",
            " |-- revenue: long (nullable = true)\n",
            " |-- runtime: long (nullable = true)\n",
            " |-- spoken_languages: array (nullable = true)\n",
            " |    |-- element: struct (containsNull = true)\n",
            " |    |    |-- english_name: string (nullable = true)\n",
            " |    |    |-- iso_639_1: string (nullable = true)\n",
            " |    |    |-- name: string (nullable = true)\n",
            " |-- status: string (nullable = true)\n",
            " |-- tagline: string (nullable = true)\n",
            " |-- title: string (nullable = true)\n",
            " |-- video: boolean (nullable = true)\n",
            " |-- vote_average: double (nullable = true)\n",
            " |-- vote_count: long (nullable = true)\n",
            "\n"
          ]
        }
      ],
      "source": [
        "# Initialize Spark session\n",
        "spark = SparkSession.builder.appName(\"MoviesData\").getOrCreate()\n",
        "\n",
        "# Load the JSON file into a PySpark DataFrame\n",
        "df = spark.read.json(\"movie_results.json\")  # Replace with your JSON file path\n",
        "\n",
        "# Show the structure of the JSON to understand the data\n",
        "df.printSchema()"
      ]
    },
    {
      "cell_type": "code",
      "execution_count": 4,
      "metadata": {
        "colab": {
          "base_uri": "https://localhost:8080/"
        },
        "id": "Ae-aOpgGNnqy",
        "outputId": "08c629ee-b467-4d17-93cb-e43166b3c47d"
      },
      "outputs": [
        {
          "output_type": "stream",
          "name": "stdout",
          "text": [
            "+-------+---------------------+----------+---------------+-----------+---------------+\n",
            "|movieId|name                 |popularity|genre_name     |genre_index|genre_vec      |\n",
            "+-------+---------------------+----------+---------------+-----------+---------------+\n",
            "|950396 |The Gorge            |210.407   |Thriller       |3.0        |(18,[3],[1.0]) |\n",
            "|950396 |The Gorge            |210.407   |Science Fiction|9.0        |(18,[9],[1.0]) |\n",
            "|950396 |The Gorge            |210.407   |Romance        |5.0        |(18,[5],[1.0]) |\n",
            "|1126166|Flight Risk          |199.997   |Crime          |7.0        |(18,[7],[1.0]) |\n",
            "|1126166|Flight Risk          |199.997   |Thriller       |3.0        |(18,[3],[1.0]) |\n",
            "|1126166|Flight Risk          |199.997   |Action         |1.0        |(18,[1],[1.0]) |\n",
            "|1064213|Anora                |161.432   |Romance        |5.0        |(18,[5],[1.0]) |\n",
            "|1064213|Anora                |161.432   |Comedy         |2.0        |(18,[2],[1.0]) |\n",
            "|1064213|Anora                |161.432   |Drama          |0.0        |(18,[0],[1.0]) |\n",
            "|762509 |Mufasa: The Lion King|140.813   |Animation      |11.0       |(18,[11],[1.0])|\n",
            "|762509 |Mufasa: The Lion King|140.813   |Family         |10.0       |(18,[10],[1.0])|\n",
            "|762509 |Mufasa: The Lion King|140.813   |Adventure      |4.0        |(18,[4],[1.0]) |\n",
            "|1241982|Moana 2              |137.318   |Comedy         |2.0        |(18,[2],[1.0]) |\n",
            "|1241982|Moana 2              |137.318   |Family         |10.0       |(18,[10],[1.0])|\n",
            "|1241982|Moana 2              |137.318   |Adventure      |4.0        |(18,[4],[1.0]) |\n",
            "|1241982|Moana 2              |137.318   |Animation      |11.0       |(18,[11],[1.0])|\n",
            "|939243 |Sonic the Hedgehog 3 |78.835    |Family         |10.0       |(18,[10],[1.0])|\n",
            "|939243 |Sonic the Hedgehog 3 |78.835    |Comedy         |2.0        |(18,[2],[1.0]) |\n",
            "|939243 |Sonic the Hedgehog 3 |78.835    |Science Fiction|9.0        |(18,[9],[1.0]) |\n",
            "|939243 |Sonic the Hedgehog 3 |78.835    |Action         |1.0        |(18,[1],[1.0]) |\n",
            "+-------+---------------------+----------+---------------+-----------+---------------+\n",
            "only showing top 20 rows\n",
            "\n",
            "+-------+--------------------+----------+----------+-----------+--------------+\n",
            "|movieId|                name|popularity|genre_name|genre_index|     genre_vec|\n",
            "+-------+--------------------+----------+----------+-----------+--------------+\n",
            "|     85|Raiders of the Lo...|    15.823|    Action|        1.0|(18,[1],[1.0])|\n",
            "|     85|Raiders of the Lo...|    15.823| Adventure|        4.0|(18,[4],[1.0])|\n",
            "+-------+--------------------+----------+----------+-----------+--------------+\n",
            "\n"
          ]
        }
      ],
      "source": [
        "# Extract the genre names (explode the array of genres to a new row per genre)\n",
        "df_genres = df.select(\n",
        "    col(\"id\").alias(\"movieId\"),\n",
        "    explode(col(\"genres\")).alias(\"genre\")\n",
        ").select(\n",
        "    \"movieId\",\n",
        "    col(\"genre.name\").alias(\"genre_name\")\n",
        ")\n",
        "# Index the genre names (convert them to numerical values)\n",
        "indexer = StringIndexer(inputCol=\"genre_name\", outputCol=\"genre_index\")\n",
        "\n",
        "# Encode the genre indices using OneHotEncoder\n",
        "encoder = OneHotEncoder(inputCol=\"genre_index\", outputCol=\"genre_vec\")\n",
        "\n",
        "# Combine indexing and encoding in a pipeline\n",
        "pipeline = Pipeline(stages=[indexer, encoder])\n",
        "genre_model = pipeline.fit(df_genres)\n",
        "df_genres_encoded = genre_model.transform(df_genres)\n",
        "\n",
        "# Now join the original movie DataFrame with the encoded genres\n",
        "df_selected = df.select(\n",
        "    col(\"id\").alias(\"movieId\"),\n",
        "    col(\"title\").alias(\"name\"),\n",
        "    col(\"popularity\")\n",
        ")\n",
        "\n",
        "df_with_genre = df_selected.join(df_genres_encoded, on=\"movieId\", how=\"left\")\n",
        "df_with_genre.show(truncate=False)\n",
        "df_with_genre.filter(df_with_genre.movieId == 85 ).show()\n",
        "\n"
      ]
    },
    {
      "cell_type": "code",
      "execution_count": 5,
      "metadata": {
        "colab": {
          "base_uri": "https://localhost:8080/"
        },
        "id": "THIwh6cB7miA",
        "outputId": "fc300b0c-748f-4971-f775-b3f2d1dc667d"
      },
      "outputs": [
        {
          "output_type": "stream",
          "name": "stdout",
          "text": [
            "+------+--------------------+----------+----------+-----------+---------------+-------+------+\n",
            "|tmdbId|                name|popularity|genre_name|genre_index|      genre_vec|movieId|imdbId|\n",
            "+------+--------------------+----------+----------+-----------+---------------+-------+------+\n",
            "|    85|Raiders of the Lo...|    15.823|    Action|        1.0| (18,[1],[1.0])|   1198| 82971|\n",
            "|    85|Raiders of the Lo...|    15.823| Adventure|        4.0| (18,[4],[1.0])|   1198| 82971|\n",
            "|   411|The Chronicles of...|     26.11|   Fantasy|        8.0| (18,[8],[1.0])|  41566|363771|\n",
            "|   411|The Chronicles of...|     26.11|    Family|       10.0|(18,[10],[1.0])|  41566|363771|\n",
            "|   411|The Chronicles of...|     26.11| Adventure|        4.0| (18,[4],[1.0])|  41566|363771|\n",
            "|   808|               Shrek|    14.761|    Family|       10.0|(18,[10],[1.0])|   4306|126029|\n",
            "|   808|               Shrek|    14.761| Adventure|        4.0| (18,[4],[1.0])|   4306|126029|\n",
            "|   808|               Shrek|    14.761|   Fantasy|        8.0| (18,[8],[1.0])|   4306|126029|\n",
            "|   808|               Shrek|    14.761|    Comedy|        2.0| (18,[2],[1.0])|   4306|126029|\n",
            "|   808|               Shrek|    14.761| Animation|       11.0|(18,[11],[1.0])|   4306|126029|\n",
            "+------+--------------------+----------+----------+-----------+---------------+-------+------+\n",
            "only showing top 10 rows\n",
            "\n"
          ]
        }
      ],
      "source": [
        "from pyspark.sql.functions import col\n",
        "ratings_df = spark.read.csv('ratings.csv', header=True, inferSchema=True)\n",
        "# Load links dataset\n",
        "links_df = spark.read.csv('links.csv', header=True, inferSchema=True)\n",
        "\n",
        "# Ensure tmdbId in links_df is an integer\n",
        "links_df = links_df.withColumn(\"tmdbId\", col(\"tmdbId\").cast(\"int\"))\n",
        "\n",
        "# Rename movieId to tmdbId in df_with_genre before joining\n",
        "df_with_genre = df_with_genre.withColumnRenamed(\"movieId\", \"tmdbId\")\n",
        "\n",
        "# Join df_with_genre with links_df using tmdbId\n",
        "df_combined = df_with_genre.join(links_df, on=\"tmdbId\", how=\"inner\")\n",
        "\n",
        "# Show the result\n",
        "df_combined.show(10)\n"
      ]
    },
    {
      "cell_type": "code",
      "execution_count": 6,
      "metadata": {
        "colab": {
          "base_uri": "https://localhost:8080/"
        },
        "id": "ujkd3Y00Nnu5",
        "outputId": "916ad586-34b4-4a9c-cae9-6a5bb51d9758"
      },
      "outputs": [
        {
          "output_type": "stream",
          "name": "stdout",
          "text": [
            "+------+-------+------+-----------------------+----------+------+--------------+\n",
            "|userId|movieId|tmdbId|name                   |popularity|rating|genre_vec     |\n",
            "+------+-------+------+-----------------------+----------+------+--------------+\n",
            "|610   |1198   |85    |Raiders of the Lost Ark|15.823    |5.0   |(18,[1],[1.0])|\n",
            "|606   |1198   |85    |Raiders of the Lost Ark|15.823    |3.5   |(18,[1],[1.0])|\n",
            "|603   |1198   |85    |Raiders of the Lost Ark|15.823    |4.0   |(18,[1],[1.0])|\n",
            "|601   |1198   |85    |Raiders of the Lost Ark|15.823    |4.0   |(18,[1],[1.0])|\n",
            "|600   |1198   |85    |Raiders of the Lost Ark|15.823    |4.0   |(18,[1],[1.0])|\n",
            "|599   |1198   |85    |Raiders of the Lost Ark|15.823    |3.5   |(18,[1],[1.0])|\n",
            "|597   |1198   |85    |Raiders of the Lost Ark|15.823    |5.0   |(18,[1],[1.0])|\n",
            "|596   |1198   |85    |Raiders of the Lost Ark|15.823    |3.5   |(18,[1],[1.0])|\n",
            "|590   |1198   |85    |Raiders of the Lost Ark|15.823    |5.0   |(18,[1],[1.0])|\n",
            "|586   |1198   |85    |Raiders of the Lost Ark|15.823    |5.0   |(18,[1],[1.0])|\n",
            "+------+-------+------+-----------------------+----------+------+--------------+\n",
            "only showing top 10 rows\n",
            "\n"
          ]
        }
      ],
      "source": [
        "# Now join with ratings DataFrame (assuming 'ratings.csv' exists)\n",
        "# Join df_combined with rating_df using movieId\n",
        "rating_df = spark.read.csv('ratings.csv', header=True, inferSchema=True)\n",
        "final_df = df_combined.join(rating_df, on=\"movieId\", how=\"inner\")\n",
        "\n",
        "# Select relevant columns\n",
        "final_df_selected = final_df.select(\n",
        "    col(\"userId\"),\n",
        "    col(\"movieId\"),\n",
        "    col(\"tmdbId\"),\n",
        "    col(\"name\"),\n",
        "    col(\"popularity\"),\n",
        "    col(\"rating\"),\n",
        "    col(\"genre_vec\")  # Include the genre vector\n",
        ")\n",
        "\n",
        "# Show the final DataFrame\n",
        "final_df_selected.show(10, truncate=False)"
      ]
    },
    {
      "cell_type": "code",
      "execution_count": 7,
      "metadata": {
        "id": "aqDJyDjiNnyx"
      },
      "outputs": [],
      "source": [
        "# Ensure there are no missing ratings\n",
        "final_df_selected = final_df_selected.dropna(subset=['rating'])\n",
        "\n",
        "# Split data into training and test sets\n",
        "(training_data, test_data) = final_df_selected.randomSplit([0.8, 0.2], seed=1234)"
      ]
    },
    {
      "cell_type": "code",
      "execution_count": 15,
      "metadata": {
        "colab": {
          "base_uri": "https://localhost:8080/"
        },
        "id": "z6hmrxLaNn3J",
        "outputId": "f24d50db-c54f-47c7-d577-a972938e1a08"
      },
      "outputs": [
        {
          "output_type": "stream",
          "name": "stdout",
          "text": [
            "R-squared for rank=150: 0.8115920628897665\n",
            "Model saved successfully\n"
          ]
        }
      ],
      "source": [
        "def train_evaluate_als(rank_value=150):\n",
        "    als = ALS(\n",
        "        userCol=\"userId\",\n",
        "        itemCol=\"tmdbId\",\n",
        "        ratingCol=\"rating\",\n",
        "        maxIter=10,  # Keeping iterations constant\n",
        "        rank=rank_value,  # Fixed rank at 50\n",
        "        regParam=0.05,  # Regularization\n",
        "        alpha=0.5,  # For implicit feedback (if applicable)\n",
        "        coldStartStrategy=\"drop\"\n",
        "    )\n",
        "\n",
        "    # Train the model\n",
        "    model = als.fit(training_data)\n",
        "\n",
        "    # Get predictions\n",
        "    predictions = model.transform(test_data)\n",
        "\n",
        "    # Evaluate R-squared\n",
        "    evaluator_r2 = RegressionEvaluator(metricName=\"r2\", labelCol=\"rating\", predictionCol=\"prediction\")\n",
        "    r2 = evaluator_r2.evaluate(predictions)\n",
        "\n",
        "    print(f\"R-squared for rank={rank_value}: {r2}\")\n",
        "\n",
        "    # Save the trained model\n",
        "    model.write().overwrite().save(\"als_movie_model\")\n",
        "    print(\"Model saved successfully\")\n",
        "\n",
        "    return r2\n",
        "\n",
        "# Train and evaluate ALS with rank=150\n",
        "r2_value = train_evaluate_als(rank_value=150)\n",
        "\n"
      ]
    },
    {
      "cell_type": "code",
      "execution_count": 20,
      "metadata": {
        "colab": {
          "base_uri": "https://localhost:8080/"
        },
        "id": "m8kwBvpRuzKc",
        "outputId": "c091cb34-31ab-4860-b378-d49deabe37db"
      },
      "outputs": [
        {
          "output_type": "stream",
          "name": "stdout",
          "text": [
            "Best model loaded successfully!\n",
            "R-squared from loaded best model: 0.8115920628897665\n",
            "+------+------+------+----------+\n",
            "|userId|tmdbId|rating|prediction|\n",
            "+------+------+------+----------+\n",
            "|1     |862   |4.0   |4.4017406 |\n",
            "|1     |949   |4.0   |4.1285596 |\n",
            "|1     |8068  |5.0   |4.467547  |\n",
            "|1     |11017 |5.0   |3.5996635 |\n",
            "|1     |8467  |5.0   |3.2101717 |\n",
            "+------+------+------+----------+\n",
            "only showing top 5 rows\n",
            "\n"
          ]
        }
      ],
      "source": [
        "from pyspark.ml.recommendation import ALSModel\n",
        "from pyspark.ml.evaluation import RegressionEvaluator\n",
        "\n",
        "# Load the saved model\n",
        "model_path = \"/content/als_movie_model\"  # Path to the saved best model\n",
        "model = ALSModel.load(model_path)  # Use ALSModel for loading the saved model\n",
        "print(\"Best model loaded successfully!\")\n",
        "\n",
        "# Get predictions using the loaded best model\n",
        "predictions = model.transform(test_data)  # Use 'model' instead of 'loaded_model'\n",
        "\n",
        "# Evaluate R-squared\n",
        "evaluator_r2 = RegressionEvaluator(metricName=\"r2\", labelCol=\"rating\", predictionCol=\"prediction\")\n",
        "r2 = evaluator_r2.evaluate(predictions)\n",
        "print(f\"R-squared from loaded best model: {r2}\")\n",
        "\n",
        "# Show predictions for the best model\n",
        "predictions.select(\"userId\", \"tmdbId\", \"rating\", \"prediction\").show(5, truncate=False)\n",
        "\n",
        "\n"
      ]
    },
    {
      "cell_type": "code",
      "source": [
        "from google.colab import files\n",
        "import shutil\n",
        "\n",
        "# Move the saved model to a downloadable location (e.g., compress it into a .zip)\n",
        "shutil.make_archive(\"/content/als_movie_model\", 'zip', model_path)\n",
        "\n",
        "# Download the .zip file containing the model\n",
        "files.download(\"als_movie_model.zip\")\n"
      ],
      "metadata": {
        "colab": {
          "base_uri": "https://localhost:8080/",
          "height": 17
        },
        "id": "28-FbbBulQar",
        "outputId": "a3b7393b-3c84-48db-a65a-7cc9430b363a"
      },
      "execution_count": 21,
      "outputs": [
        {
          "output_type": "display_data",
          "data": {
            "text/plain": [
              "<IPython.core.display.Javascript object>"
            ],
            "application/javascript": [
              "\n",
              "    async function download(id, filename, size) {\n",
              "      if (!google.colab.kernel.accessAllowed) {\n",
              "        return;\n",
              "      }\n",
              "      const div = document.createElement('div');\n",
              "      const label = document.createElement('label');\n",
              "      label.textContent = `Downloading \"${filename}\": `;\n",
              "      div.appendChild(label);\n",
              "      const progress = document.createElement('progress');\n",
              "      progress.max = size;\n",
              "      div.appendChild(progress);\n",
              "      document.body.appendChild(div);\n",
              "\n",
              "      const buffers = [];\n",
              "      let downloaded = 0;\n",
              "\n",
              "      const channel = await google.colab.kernel.comms.open(id);\n",
              "      // Send a message to notify the kernel that we're ready.\n",
              "      channel.send({})\n",
              "\n",
              "      for await (const message of channel.messages) {\n",
              "        // Send a message to notify the kernel that we're ready.\n",
              "        channel.send({})\n",
              "        if (message.buffers) {\n",
              "          for (const buffer of message.buffers) {\n",
              "            buffers.push(buffer);\n",
              "            downloaded += buffer.byteLength;\n",
              "            progress.value = downloaded;\n",
              "          }\n",
              "        }\n",
              "      }\n",
              "      const blob = new Blob(buffers, {type: 'application/binary'});\n",
              "      const a = document.createElement('a');\n",
              "      a.href = window.URL.createObjectURL(blob);\n",
              "      a.download = filename;\n",
              "      div.appendChild(a);\n",
              "      a.click();\n",
              "      div.remove();\n",
              "    }\n",
              "  "
            ]
          },
          "metadata": {}
        },
        {
          "output_type": "display_data",
          "data": {
            "text/plain": [
              "<IPython.core.display.Javascript object>"
            ],
            "application/javascript": [
              "download(\"download_4d24bfc2-b286-4bef-9894-0a8daec0375d\", \"als_movie_model.zip\", 2247962)"
            ]
          },
          "metadata": {}
        }
      ]
    },
    {
      "cell_type": "code",
      "execution_count": 22,
      "metadata": {
        "colab": {
          "base_uri": "https://localhost:8080/"
        },
        "id": "hWPaqq6UOXKD",
        "outputId": "93576310-6c4d-4e25-b3ee-368527786aa8"
      },
      "outputs": [
        {
          "output_type": "stream",
          "name": "stdout",
          "text": [
            "+------+------+-----------------------+--------------------------------------------------------------------+----------------------------------+\n",
            "|userId|tmdbId|scaled_predicted_rating|name                                                                |genre_name                        |\n",
            "+------+------+-----------------------+--------------------------------------------------------------------+----------------------------------+\n",
            "|1     |278   |4.002888470755939      |The Shawshank Redemption                                            |Crime, Drama                      |\n",
            "|1     |389   |3.8377558423754348     |12 Angry Men                                                        |Drama                             |\n",
            "|1     |530   |3.8615396879121593     |A Grand Day Out                                                     |Comedy, Animation, Family         |\n",
            "|1     |550   |3.8849722790358237     |Fight Club                                                          |Drama                             |\n",
            "|1     |595   |3.8907939799085884     |To Kill a Mockingbird                                               |Drama                             |\n",
            "|1     |826   |3.8427407563394174     |The Bridge on the River Kwai                                        |War, History, Drama               |\n",
            "|1     |935   |3.8688631719126056     |Dr. Strangelove or: How I Learned to Stop Worrying and Love the Bomb|War, Comedy                       |\n",
            "|1     |1891  |3.8817082559280576     |The Empire Strikes Back                                             |Science Fiction, Action, Adventure|\n",
            "|1     |5925  |4.103056936464727      |The Great Escape                                                    |War, Drama, Adventure             |\n",
            "|1     |359940|4.102022355808785      |Three Billboards Outside Ebbing, Missouri                           |Drama, Crime                      |\n",
            "|2     |155   |3.1947083352160686     |The Dark Knight                                                     |Thriller, Crime, Action, Drama    |\n",
            "|2     |807   |3.1636969185950847     |Se7en                                                               |Thriller, Mystery, Crime          |\n",
            "|2     |8363  |3.148404136958529      |Superbad                                                            |Comedy                            |\n",
            "|2     |12133 |3.3907343007607387     |Step Brothers                                                       |Comedy                            |\n",
            "|2     |16869 |3.156549914360423      |Inglourious Basterds                                                |War, Thriller, Drama              |\n",
            "|2     |44639 |3.509760950910491      |Inside Job                                                          |Crime, Documentary                |\n",
            "|2     |59440 |3.5811410482557062     |Warrior                                                             |Action, Drama                     |\n",
            "|2     |76341 |3.4666743112813196     |Mad Max: Fury Road                                                  |Science Fiction, Adventure, Action|\n",
            "|2     |106646|3.414640062270928      |The Wolf of Wall Street                                             |Comedy, Drama, Crime              |\n",
            "|2     |329865|3.2010113057882807     |Arrival                                                             |Mystery, Science Fiction, Drama   |\n",
            "+------+------+-----------------------+--------------------------------------------------------------------+----------------------------------+\n",
            "only showing top 20 rows\n",
            "\n"
          ]
        }
      ],
      "source": [
        "from pyspark.sql import functions as F\n",
        "\n",
        "# Generate top N recommendations for all users (e.g., Top 10)\n",
        "top_n_recommendations = model.recommendForAllUsers(10)\n",
        "\n",
        "# Explode the recommendations to get one row per movie recommendation\n",
        "exploded_recommendations = top_n_recommendations.select(\n",
        "    \"userId\",\n",
        "    F.explode(\"recommendations\").alias(\"recommendation\")\n",
        ")\n",
        "\n",
        "# Extract tmdbId and predicted rating from the exploded recommendations\n",
        "final_recommendations = exploded_recommendations.select(\n",
        "    \"userId\",\n",
        "    F.col(\"recommendation.tmdbId\").alias(\"tmdbId\"),\n",
        "    F.col(\"recommendation.rating\").alias(\"predicted_rating\")\n",
        ")\n",
        "\n",
        "# Scale the predicted rating to a range of 1 to 5\n",
        "min_rating = final_recommendations.agg({\"predicted_rating\": \"min\"}).collect()[0][0]\n",
        "max_rating = final_recommendations.agg({\"predicted_rating\": \"max\"}).collect()[0][0]\n",
        "\n",
        "scaled_recommendations = final_recommendations.withColumn(\n",
        "    \"scaled_predicted_rating\",\n",
        "    ((F.col(\"predicted_rating\") - min_rating) / (max_rating - min_rating)) * 4 + 1\n",
        ")\n",
        "\n",
        "# Join with the movie metadata (movie names, genres, etc.)\n",
        "final_with_metadata = scaled_recommendations.join(df_with_genre, \"tmdbId\", \"inner\")\n",
        "\n",
        "# To avoid duplicates, we can aggregate genres into a single row per user/movie combination\n",
        "aggregated_recommendations = final_with_metadata.groupBy(\n",
        "    \"userId\", \"tmdbId\", \"scaled_predicted_rating\", \"name\"\n",
        ").agg(\n",
        "    F.concat_ws(\", \", F.collect_list(\"genre_name\")).alias(\"genre_name\")\n",
        ")\n",
        "\n",
        "# Show the final recommendations with both original and scaled predicted ratings\n",
        "aggregated_recommendations.show(truncate=False)"
      ]
    },
    {
      "cell_type": "code",
      "execution_count": 23,
      "metadata": {
        "id": "GTFxa4NsS2OF"
      },
      "outputs": [],
      "source": [
        "\n",
        "output_path = '/content/top_n_recommendations.csv'  # Full path with the file name\n",
        "\n",
        "# Overwrite the file if it already exists\n",
        "aggregated_recommendations.write.mode(\"overwrite\").option(\"header\", \"true\").csv(output_path)\n"
      ]
    },
    {
      "cell_type": "code",
      "execution_count": 24,
      "metadata": {
        "colab": {
          "base_uri": "https://localhost:8080/",
          "height": 17
        },
        "id": "D5GjiczdJaL0",
        "outputId": "4fb6eab6-3c85-4977-98ec-f0a127fb5f4a"
      },
      "outputs": [
        {
          "output_type": "display_data",
          "data": {
            "text/plain": [
              "<IPython.core.display.Javascript object>"
            ],
            "application/javascript": [
              "\n",
              "    async function download(id, filename, size) {\n",
              "      if (!google.colab.kernel.accessAllowed) {\n",
              "        return;\n",
              "      }\n",
              "      const div = document.createElement('div');\n",
              "      const label = document.createElement('label');\n",
              "      label.textContent = `Downloading \"${filename}\": `;\n",
              "      div.appendChild(label);\n",
              "      const progress = document.createElement('progress');\n",
              "      progress.max = size;\n",
              "      div.appendChild(progress);\n",
              "      document.body.appendChild(div);\n",
              "\n",
              "      const buffers = [];\n",
              "      let downloaded = 0;\n",
              "\n",
              "      const channel = await google.colab.kernel.comms.open(id);\n",
              "      // Send a message to notify the kernel that we're ready.\n",
              "      channel.send({})\n",
              "\n",
              "      for await (const message of channel.messages) {\n",
              "        // Send a message to notify the kernel that we're ready.\n",
              "        channel.send({})\n",
              "        if (message.buffers) {\n",
              "          for (const buffer of message.buffers) {\n",
              "            buffers.push(buffer);\n",
              "            downloaded += buffer.byteLength;\n",
              "            progress.value = downloaded;\n",
              "          }\n",
              "        }\n",
              "      }\n",
              "      const blob = new Blob(buffers, {type: 'application/binary'});\n",
              "      const a = document.createElement('a');\n",
              "      a.href = window.URL.createObjectURL(blob);\n",
              "      a.download = filename;\n",
              "      div.appendChild(a);\n",
              "      a.click();\n",
              "      div.remove();\n",
              "    }\n",
              "  "
            ]
          },
          "metadata": {}
        },
        {
          "output_type": "display_data",
          "data": {
            "text/plain": [
              "<IPython.core.display.Javascript object>"
            ],
            "application/javascript": [
              "download(\"download_87c25676-98a0-4a25-b178-10579fd7a5a9\", \"part-00000-98b215d5-e473-4c90-8d53-ccdc0779df40-c000.csv\", 417735)"
            ]
          },
          "metadata": {}
        }
      ],
      "source": [
        "from google.colab import files\n",
        "import os\n",
        "\n",
        "# Get the CSV file from the output directory\n",
        "csv_file = [f for f in os.listdir(output_path) if f.endswith('.csv')][0]  # Find the CSV part file\n",
        "\n",
        "# Full path to the file to download\n",
        "full_file_path = os.path.join(output_path, csv_file)\n",
        "\n",
        "# Download the file to your local machine\n",
        "files.download(full_file_path)"
      ]
    }
  ],
  "metadata": {
    "colab": {
      "provenance": []
    },
    "kernelspec": {
      "display_name": "dev",
      "language": "python",
      "name": "python3"
    },
    "language_info": {
      "codemirror_mode": {
        "name": "ipython",
        "version": 3
      },
      "file_extension": ".py",
      "mimetype": "text/x-python",
      "name": "python",
      "nbconvert_exporter": "python",
      "pygments_lexer": "ipython3",
      "version": "3.10.15"
    }
  },
  "nbformat": 4,
  "nbformat_minor": 0
}